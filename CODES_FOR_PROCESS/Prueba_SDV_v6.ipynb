{
 "cells": [
  {
   "cell_type": "markdown",
   "id": "4e2cb6e0-453d-4d36-b40d-b69c0c7ce40a",
   "metadata": {},
   "source": [
    "# Generación de señales sintéticas"
   ]
  },
  {
   "cell_type": "code",
   "execution_count": 1,
   "id": "aae81dba",
   "metadata": {},
   "outputs": [],
   "source": [
    "#Carga de paquetes \n",
    "#Core\n",
    "conda install -c pytorch -c conda-forge sdv"
   ]
  },
  {
   "cell_type": "code",
   "execution_count": null,
   "id": "cc0dc056-ea1b-45df-ad75-171c3eeb9e69",
   "metadata": {},
   "outputs": [],
   "source": [
    "pip install sdv"
   ]
  },
  {
   "cell_type": "code",
   "execution_count": null,
   "id": "2c5d01e3-7297-4568-bba6-7b54ce778f9d",
   "metadata": {},
   "outputs": [],
   "source": [
    "#Carga de paquetes \n",
    "#Core\n",
    "import numpy as np\n",
    "import pandas as pd\n",
    "import os\n",
    "from datetime import datetime\n",
    "import scipy.io\n",
    "import matplotlib.pyplot as plt\n",
    "import plotly.express as px\n",
    "from scipy.fft import fft, fftfreq\n",
    "from matplotlib import cm\n",
    "from mpl_toolkits.mplot3d import Axes3D\n",
    "from mpl_toolkits.mplot3d import Axes3D\n",
    "import pylab as pl\n",
    "import seaborn as sns\n",
    "sns.set()\n",
    "import warnings\n",
    "from collections import Counter\n",
    "warnings.filterwarnings('ignore')\n",
    "from numpy import mean\n",
    "import statistics\n",
    "from IPython.display import HTML, display_html, display\n",
    "import random\n",
    "import timeit\n",
    "\n",
    "\n",
    "from sdv import Metadata\n",
    "from sdv.evaluation import evaluate\n",
    "from sdv.timeseries import PAR"
   ]
  },
  {
   "cell_type": "code",
   "execution_count": 3,
   "id": "73fc43ee-e6e2-44c1-8597-a0d833c4dd31",
   "metadata": {},
   "outputs": [],
   "source": [
    "#Esto permite generar gráficas interactivas\n",
    "%matplotlib qt"
   ]
  },
  {
   "cell_type": "code",
   "execution_count": 3,
   "id": "46a70ad3-63b7-4ac8-a0fc-81c183714ca5",
   "metadata": {},
   "outputs": [],
   "source": [
    "#Ajuste del directorio - (Al trabajar con un disco externo se requiere ajustar el directorio dependiendo del ordenador en el que se trabaje)\n",
    "#Si se trabaja desde el odenador propio correr esta celda\n",
    "path = 'C:\\\\Users\\\\Vaneza'\n",
    "os.chdir(path)\n",
    "os.getcwd()\n",
    "disco = 'E'"
   ]
  },
  {
   "cell_type": "code",
   "execution_count": null,
   "id": "db431aeb-0be9-4cbd-8aba-0567e30f34e8",
   "metadata": {},
   "outputs": [],
   "source": [
    "#Si se trabaja desde el ordenador del trabajo correr esta celda\n",
    "path = 'C:\\\\Users\\\\Y8764982H\\\\OneDrive - Generalitat de Catalunya/TFG/'\n",
    "os.chdir(path)\n",
    "os.getcwd()\n",
    "disco = 'D'"
   ]
  },
  {
   "cell_type": "markdown",
   "id": "5db83ab6-bbbe-494b-8471-8997608b2709",
   "metadata": {
    "tags": []
   },
   "source": [
    "## Carga de tablas"
   ]
  },
  {
   "cell_type": "code",
   "execution_count": 7,
   "id": "a1b6bc78-6449-4a48-81e0-ca4590ab9ed9",
   "metadata": {},
   "outputs": [],
   "source": [
    "#tabla real\n",
    "all_CT_PD_30s= pd.read_csv('%s:\\\\TFG\\Data and Code (1)\\\\Dataset\\\\IowaDataset\\\\segmented_tables\\\\all_CT_PD_30s_39ch.csv'%(disco))"
   ]
  },
  {
   "cell_type": "markdown",
   "id": "a144b087-8b17-4609-a218-2266504bc3a8",
   "metadata": {},
   "source": [
    "## Separación de datos"
   ]
  },
  {
   "cell_type": "code",
   "execution_count": 7,
   "id": "4cdd1fb9-6c60-45b8-a00a-4c564704d6d5",
   "metadata": {},
   "outputs": [],
   "source": [
    "#Forzamos el datetime dtype de la columna del tiempo\n",
    "tables['all_CT_PD_30s_39ch.csv']['Time'] = tables['all_CT_PD_30s_39ch.csv']['Time'].astype('datetime64[ns]')\n",
    "\n",
    "data = tables['all_CT_PD_30s_39ch.csv']\n",
    "entity_columns = ['Patient']  #En este caso sería el identificador del paciente\n",
    "context_columns = ['Diagnosis'] #podría ser la edad, la duracion de la enfermedad y la edad\n",
    "sequence_index = 'Time' #para timeseries el orden de las filas importa, en este caso el orden esta dado por el progreso en el tiempo de la señal EEG\n",
    "                            #por cada uno de los canales   "
   ]
  },
  {
   "cell_type": "markdown",
   "id": "d64656f0-f702-4628-a794-03d84f5efc76",
   "metadata": {},
   "source": [
    "## Creación del modelo"
   ]
  },
  {
   "cell_type": "code",
   "execution_count": null,
   "id": "d403f758-a4a9-4fcc-97df-cb848784f354",
   "metadata": {},
   "outputs": [
    {
     "name": "stdout",
     "output_type": "stream",
     "text": [
      "PARModel(epochs=128, sample_size=1, cuda='cpu', verbose=True) instance created\n"
     ]
    },
    {
     "name": "stderr",
     "output_type": "stream",
     "text": [
      "Epoch 7 | Loss 287.609619140625:   5%|▌         | 7/128 [24:05:56<621:34:39, 18493.22s/it]"
     ]
    }
   ],
   "source": [
    "start = timeit.default_timer()\n",
    "\n",
    "model = PAR(entity_columns=entity_columns,\n",
    "            context_columns=context_columns,\n",
    "            sequence_index=sequence_index, \n",
    "            verbose =True\n",
    "           )\n",
    "\n",
    "model.fit(data)\n",
    "stop = timeit.default_timer()\n",
    "print('Tiempo que tarda en crear los datos sintétcos: ',stop-start, 's')"
   ]
  },
  {
   "cell_type": "markdown",
   "id": "445dce6f-03cb-406b-b7cd-7e7be29c5669",
   "metadata": {},
   "source": [
    "## Guardar y cargar el modelo"
   ]
  },
  {
   "cell_type": "code",
   "execution_count": null,
   "id": "f845f67a-6a68-47cc-9cab-d37ff84c4319",
   "metadata": {},
   "outputs": [],
   "source": [
    "#Guardar\n",
    "model.save('./TFG/all_CT_PD_30s_39ch.pkl')"
   ]
  },
  {
   "cell_type": "code",
   "execution_count": null,
   "id": "3ebefcb7-ec06-4377-b942-b18527fce2e9",
   "metadata": {
    "tags": []
   },
   "outputs": [],
   "source": [
    "#cargar\n",
    "loaded = PAR.load('%s:\\\\TFG\\Data and Code (1)\\\\Dataset\\\\IowaDataset\\\\Modelos_SDV\\\\all_CT_PD_30s_39ch.pkl'%(disco))"
   ]
  },
  {
   "cell_type": "markdown",
   "id": "fa5d5d82-ea6e-4fd7-be9d-bb5114b348eb",
   "metadata": {},
   "source": [
    "## Generar datos sintéticos"
   ]
  },
  {
   "cell_type": "code",
   "execution_count": 39,
   "id": "31ab5612-65dd-414a-b05b-bc4a9000fc30",
   "metadata": {},
   "outputs": [
    {
     "name": "stderr",
     "output_type": "stream",
     "text": [
      "100%|██████████| 4/4 [24:42<00:00, 370.64s/it]\n"
     ]
    },
    {
     "name": "stdout",
     "output_type": "stream",
     "text": [
      "Tiempo que tarda en crear los datos sintétcos:  1482.8646419933066 s\n"
     ]
    }
   ],
   "source": [
    "start = timeit.default_timer()\n",
    "np.random.seed(4)\n",
    "\n",
    "Syn_table = loaded.sample(num_sequences=10)\n",
    "2\n",
    "stop = timeit.default_timer()\n",
    "print('Tiempo que tarda en crear los datos sintétcos: ',stop-start, 's')"
   ]
  },
  {
   "cell_type": "code",
   "execution_count": null,
   "id": "c7b499c4-9436-4ead-bb29-96a975e8b2f1",
   "metadata": {
    "tags": []
   },
   "outputs": [],
   "source": [
    "# Guardar la tabla generada\n",
    "Syn_table.to_csv('./TFG/all_CT_PD_30s_10_Syn_3.csv',index=False)\n",
    "Syn_table"
   ]
  }
 ],
 "metadata": {
  "kernelspec": {
   "display_name": "Python 3 (ipykernel)",
   "language": "python",
   "name": "python3"
  },
  "language_info": {
   "codemirror_mode": {
    "name": "ipython",
    "version": 3
   },
   "file_extension": ".py",
   "mimetype": "text/x-python",
   "name": "python",
   "nbconvert_exporter": "python",
   "pygments_lexer": "ipython3",
   "version": "3.9.12"
  }
 },
 "nbformat": 4,
 "nbformat_minor": 5
}
