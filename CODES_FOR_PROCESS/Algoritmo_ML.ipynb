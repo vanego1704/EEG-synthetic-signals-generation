{
 "cells": [
  {
   "cell_type": "markdown",
   "id": "e4ffb5ca-8e59-40ce-88a8-5e00f4e1aa67",
   "metadata": {},
   "source": [
    "## Algoritmo de machine learning para detección de párkinson - XGBOOST"
   ]
  },
  {
   "cell_type": "code",
   "execution_count": null,
   "id": "b3ae71f6-184d-4d93-9f76-2da088c23f3b",
   "metadata": {},
   "outputs": [],
   "source": [
    "#Instalación de la librería XGBoost\n",
    "pip install xgboost"
   ]
  },
  {
   "cell_type": "code",
   "execution_count": null,
   "id": "15703a59-7949-4a58-98c9-548485ac35c1",
   "metadata": {
    "tags": []
   },
   "outputs": [],
   "source": [
    "#1. Carga de paquetes \n",
    "import numpy as np\n",
    "import pandas as pd\n",
    "import seaborn as sns\n",
    "from sklearn import metrics\n",
    "import os\n",
    "import matplotlib.pyplot as plt\n",
    "import matplotlib.dates as md\n",
    "import xgboost as xgb\n",
    "from sklearn.metrics import accuracy_score\n",
    "from sklearn.metrics import mean_absolute_error\n",
    "from sklearn.model_selection import train_test_split\n",
    "from sklearn.metrics import classification_report\n",
    "from sklearn.metrics import roc_curve\n",
    "from sklearn.metrics import roc_auc_score"
   ]
  },
  {
   "cell_type": "code",
   "execution_count": null,
   "id": "4e6c148e-ef66-4706-a07a-8e95ae11475b",
   "metadata": {},
   "outputs": [],
   "source": [
    "#Esto permite generar gráficas interactivas\n",
    "%matplotlib qt"
   ]
  },
  {
   "cell_type": "code",
   "execution_count": null,
   "id": "954f3d2d-d3bf-48f5-b36f-0ddd4cf85e09",
   "metadata": {},
   "outputs": [],
   "source": [
    "# Esta función calcula el gasto de memoria en MB\n",
    "def memory_usage_psutil():\n",
    "    import psutil\n",
    "    import os\n",
    "    process = psutil.Process(os.getpid())\n",
    "    mem = process.memory_info().rss / float(2 ** 20)\n",
    "    return mem"
   ]
  },
  {
   "cell_type": "code",
   "execution_count": null,
   "id": "6ef2a029-a41f-4cb0-890d-0f83c4deb863",
   "metadata": {},
   "outputs": [],
   "source": [
    "#Ajuste del directorio - (Al trabajar con un disco externo se requiere ajustar el directorio dependiendo del ordenador en el que se trabaje)\n",
    "#Si se trabaja desde el odenador propio correr esta celda\n",
    "path = 'C:\\\\Users\\\\Vaneza'\n",
    "os.chdir(path)\n",
    "os.getcwd()\n",
    "disco = 'E'"
   ]
  },
  {
   "cell_type": "code",
   "execution_count": null,
   "id": "90db0ed1-69a3-4059-9e8c-5849d7c675ee",
   "metadata": {},
   "outputs": [],
   "source": [
    "#Si se trabaja desde el ordenador del trabajo correr esta celda\n",
    "path = 'C:\\\\Users\\\\Y8764982H\\\\OneDrive - Generalitat de Catalunya/TFG/'\n",
    "os.chdir(path)\n",
    "os.getcwd()\n",
    "disco = 'D'"
   ]
  },
  {
   "cell_type": "code",
   "execution_count": null,
   "id": "b6171269-98df-41b7-ae6e-3da7bbea7354",
   "metadata": {},
   "outputs": [],
   "source": [
    "#aplplicación de la función de memoria\n",
    "memory_usage_psutil()"
   ]
  },
  {
   "cell_type": "markdown",
   "id": "5e8f497d-d471-4802-8b74-63275a42f3f6",
   "metadata": {},
   "source": [
    "## Carga de archivos"
   ]
  },
  {
   "cell_type": "code",
   "execution_count": null,
   "id": "ee06fbbf-9368-4705-952f-a2f5bc6be856",
   "metadata": {},
   "outputs": [],
   "source": [
    "#Datos reales\n",
    "all_CT_PD_30s_Real= pd.read_csv('%s:\\\\TFG\\Data and Code (1)\\\\Dataset\\\\IowaDataset\\\\segmented_tables\\\\all_CT_PD_30s_39ch.csv'%(disco))\n",
    "#Datos sintéticos\n",
    "all_CT_PD_30s_Syn= pd.read_csv('%s:\\\\TFG\\Data and Code (1)\\\\Dataset\\\\IowaDataset\\\\270_CT_PD_30s_39ch_syn_A.csv'%(disco))"
   ]
  },
  {
   "cell_type": "markdown",
   "id": "c79d0604-eacf-4c2a-9766-9919410b60a2",
   "metadata": {},
   "source": [
    "### 1. Exploración de los datos"
   ]
  },
  {
   "cell_type": "code",
   "execution_count": null,
   "id": "f8856010-1bfc-4618-aaf3-82ba90b69ea5",
   "metadata": {},
   "outputs": [],
   "source": [
    "#Generar un papa de calor de las correlaciones entre las columnas de los datos \n",
    "corr = model_df.drop(columns=['Patient','Time','Diagnosis']).corr()\n",
    "ax = sns.heatmap(corr.iloc[:39, :39], linewidth=0.5)\n",
    "plt.show()"
   ]
  },
  {
   "cell_type": "code",
   "execution_count": null,
   "id": "fc7f9cdd-eb51-45c6-9cac-423d83ee62fa",
   "metadata": {
    "tags": []
   },
   "outputs": [],
   "source": [
    "#Corregir los nombres de las variables\n",
    "model_df = all_CT_PD_30s_Syn.copy().drop(columns=['Unnamed: 0'])\n",
    "model_df_real = all_CT_PD_30s_Real.copy()\n",
    "\n",
    "#Cambiar la columna de tiempo de Datetime a float (volver al vector de 0 a 30s)\n",
    "rng = np.arange(0.000, 30, 0.002)\n",
    "rng = pd.DataFrame(rng,columns=['Time'])\n",
    "#print(rng)\n",
    "#print(len(rng))\n",
    "Time_df = rng\n",
    "for i in range(0,111):\n",
    "    Time_df = pd.concat([Time_df,rng],axis=0).reset_index(drop=True)\n",
    "print(Time_df)  #Nuevo vector del tiempo\n",
    "#-------------------------------------------------------------------------------\n",
    "#Reemplazar la columna de tiempo por el nuevo vector\n",
    "\n",
    "model_df_real['Time'] = Time_df\n",
    "model_df_real"
   ]
  },
  {
   "cell_type": "code",
   "execution_count": null,
   "id": "9e1a83e7-f8af-4b4e-ac8c-7af7fdc1bdaa",
   "metadata": {
    "tags": []
   },
   "outputs": [],
   "source": [
    "#Información dek dataframe\n",
    "print(model_df_real.info())"
   ]
  },
  {
   "cell_type": "markdown",
   "id": "0540f5a2-d797-4567-800f-45fdf4577eca",
   "metadata": {},
   "source": [
    "## Modelo XGBoost"
   ]
  },
  {
   "cell_type": "markdown",
   "id": "bcaf794b-e8cf-4e5d-9118-34643407762f",
   "metadata": {},
   "source": [
    "El siguiente conjunto de código solo se ejecuta cuando se estén evaluando dato sintéticos"
   ]
  },
  {
   "cell_type": "markdown",
   "id": "1151d014-6033-48c9-adc4-7e240b53217b",
   "metadata": {},
   "source": [
    "### Unión de los datos sintéticos con una porción de los datos reales"
   ]
  },
  {
   "cell_type": "code",
   "execution_count": null,
   "id": "ea70ef6b-3ec4-4a10-8536-58ce5d8ef4ca",
   "metadata": {
    "tags": []
   },
   "outputs": [],
   "source": [
    "#Primero se seleccionan aleatoriamente los pacientes para luego extraer todos los registros de este\n",
    "random_real = model_df_real.copy()\n",
    "random_real = random_real.sample(n = 86, replace=False, random_state = 2).drop_duplicates()\n",
    "random_real = list(dict.fromkeys(random_real['Patient']))\n",
    "len(random_real)"
   ]
  },
  {
   "cell_type": "code",
   "execution_count": null,
   "id": "1f1f9a5a-cfbb-43de-a374-38400ba64c86",
   "metadata": {
    "tags": []
   },
   "outputs": [],
   "source": [
    "#Extraemos las filas de los pacientes escogidos aleatoriamente\n",
    "random_real_df = []\n",
    "for n in range(len(random_real)):\n",
    "    if n == 0:\n",
    "        random_real_df = model_df_real.loc[model_df_real['Patient'] == random_real[n]]\n",
    "    else:\n",
    "        random_real_df1 = model_df_real.loc[model_df_real['Patient'] == random_real[n]]\n",
    "        random_real_df = pd.concat([random_real_df,random_real_df1],axis=0).reset_index(drop=True)  \n",
    "random_real_df"
   ]
  },
  {
   "cell_type": "code",
   "execution_count": null,
   "id": "90b9d88e-172f-47dd-8960-5f6546ad1ed6",
   "metadata": {
    "tags": []
   },
   "outputs": [],
   "source": [
    "##Eliminar los pacientes extraídos del dataset real para no genera overfitting\n",
    "real = model_df_real.copy(deep=True)\n",
    "for n in random_real:\n",
    "    indexes = real.loc[real['Patient'] == n]\n",
    "    real = real.drop(index=indexes.index, axis=0)\n",
    "real = real.reset_index(drop=True)\n",
    "real"
   ]
  },
  {
   "cell_type": "code",
   "execution_count": null,
   "id": "47a7327c-f10c-459d-b839-0a01f3adfc84",
   "metadata": {
    "tags": []
   },
   "outputs": [],
   "source": [
    "## Concatenar aleatoriamente los datos reales con los sintéticos\n",
    "syn_real_model_df = pd.concat([model_df,random_real_df],axis=0).reset_index(drop=True)\n",
    "syn_real_model_df"
   ]
  },
  {
   "cell_type": "code",
   "execution_count": null,
   "id": "e159337f-2587-48bc-ad0d-26138ee16c7e",
   "metadata": {
    "tags": []
   },
   "outputs": [],
   "source": [
    "#Creación de nombres de pacientes para crear ventanas de 30 segundos\n",
    "for i in range(0,300):\n",
    "    patient = ['Patient_%s'%(i)] * 15000\n",
    "    if (i == 0):\n",
    "        patient1 = pd.DataFrame(patient,columns=['Patient'])\n",
    "    else:\n",
    "        patient1_t = pd.DataFrame(patient,columns=['Patient'])\n",
    "        patient1 = pd.concat([patient1,patient1_t],axis=0).reset_index(drop=True)\n",
    "        \n",
    "patient1"
   ]
  },
  {
   "cell_type": "code",
   "execution_count": 43,
   "id": "adf282ff-77f7-48bd-b8da-04592fb11cbf",
   "metadata": {},
   "outputs": [
    {
     "data": {
      "text/html": [
       "<div>\n",
       "<style scoped>\n",
       "    .dataframe tbody tr th:only-of-type {\n",
       "        vertical-align: middle;\n",
       "    }\n",
       "\n",
       "    .dataframe tbody tr th {\n",
       "        vertical-align: top;\n",
       "    }\n",
       "\n",
       "    .dataframe thead th {\n",
       "        text-align: right;\n",
       "    }\n",
       "</style>\n",
       "<table border=\"1\" class=\"dataframe\">\n",
       "  <thead>\n",
       "    <tr style=\"text-align: right;\">\n",
       "      <th></th>\n",
       "      <th>Patient</th>\n",
       "      <th>Diagnosis</th>\n",
       "      <th>Time</th>\n",
       "      <th>Fz</th>\n",
       "      <th>FC1</th>\n",
       "      <th>C3</th>\n",
       "      <th>T7</th>\n",
       "      <th>CP5</th>\n",
       "      <th>CP1</th>\n",
       "      <th>P3</th>\n",
       "      <th>...</th>\n",
       "      <th>POz</th>\n",
       "      <th>PO4</th>\n",
       "      <th>PO8</th>\n",
       "      <th>P6</th>\n",
       "      <th>P2</th>\n",
       "      <th>CPz</th>\n",
       "      <th>CP4</th>\n",
       "      <th>TP8</th>\n",
       "      <th>C6</th>\n",
       "      <th>C2</th>\n",
       "    </tr>\n",
       "  </thead>\n",
       "  <tbody>\n",
       "    <tr>\n",
       "      <th>0</th>\n",
       "      <td>Patient_0</td>\n",
       "      <td>0</td>\n",
       "      <td>0.000</td>\n",
       "      <td>-0.003063</td>\n",
       "      <td>0.532317</td>\n",
       "      <td>0.001482</td>\n",
       "      <td>-3.656705</td>\n",
       "      <td>0.003446</td>\n",
       "      <td>1.835564</td>\n",
       "      <td>-1.143459</td>\n",
       "      <td>...</td>\n",
       "      <td>4.138678</td>\n",
       "      <td>-6.841405</td>\n",
       "      <td>0.004125</td>\n",
       "      <td>2.559477</td>\n",
       "      <td>-0.520981</td>\n",
       "      <td>-3.778777</td>\n",
       "      <td>-4.604167</td>\n",
       "      <td>0.002650</td>\n",
       "      <td>-11.473443</td>\n",
       "      <td>5.263293</td>\n",
       "    </tr>\n",
       "    <tr>\n",
       "      <th>1</th>\n",
       "      <td>Patient_0</td>\n",
       "      <td>0</td>\n",
       "      <td>0.002</td>\n",
       "      <td>0.384354</td>\n",
       "      <td>-9.423356</td>\n",
       "      <td>-2.123312</td>\n",
       "      <td>3.451568</td>\n",
       "      <td>0.037242</td>\n",
       "      <td>-0.264607</td>\n",
       "      <td>3.733971</td>\n",
       "      <td>...</td>\n",
       "      <td>1.034917</td>\n",
       "      <td>1.692262</td>\n",
       "      <td>-2.393040</td>\n",
       "      <td>5.534984</td>\n",
       "      <td>0.422182</td>\n",
       "      <td>-2.865445</td>\n",
       "      <td>-3.591982</td>\n",
       "      <td>0.002650</td>\n",
       "      <td>3.438419</td>\n",
       "      <td>-7.450541</td>\n",
       "    </tr>\n",
       "    <tr>\n",
       "      <th>2</th>\n",
       "      <td>Patient_0</td>\n",
       "      <td>0</td>\n",
       "      <td>0.004</td>\n",
       "      <td>-10.426778</td>\n",
       "      <td>-0.000855</td>\n",
       "      <td>-4.058763</td>\n",
       "      <td>-1.748821</td>\n",
       "      <td>-1.910042</td>\n",
       "      <td>1.578725</td>\n",
       "      <td>-2.354752</td>\n",
       "      <td>...</td>\n",
       "      <td>-0.694865</td>\n",
       "      <td>6.356311</td>\n",
       "      <td>-2.532005</td>\n",
       "      <td>1.142355</td>\n",
       "      <td>0.443890</td>\n",
       "      <td>-5.152515</td>\n",
       "      <td>4.297418</td>\n",
       "      <td>-2.462974</td>\n",
       "      <td>-9.122838</td>\n",
       "      <td>-7.383072</td>\n",
       "    </tr>\n",
       "    <tr>\n",
       "      <th>3</th>\n",
       "      <td>Patient_0</td>\n",
       "      <td>0</td>\n",
       "      <td>0.006</td>\n",
       "      <td>-3.071366</td>\n",
       "      <td>-5.627454</td>\n",
       "      <td>-2.771687</td>\n",
       "      <td>0.005552</td>\n",
       "      <td>0.137462</td>\n",
       "      <td>-2.914209</td>\n",
       "      <td>2.338753</td>\n",
       "      <td>...</td>\n",
       "      <td>2.106869</td>\n",
       "      <td>4.835685</td>\n",
       "      <td>-1.696615</td>\n",
       "      <td>0.545445</td>\n",
       "      <td>0.835161</td>\n",
       "      <td>-4.528877</td>\n",
       "      <td>-6.043903</td>\n",
       "      <td>0.002650</td>\n",
       "      <td>-8.101640</td>\n",
       "      <td>-0.004458</td>\n",
       "    </tr>\n",
       "    <tr>\n",
       "      <th>4</th>\n",
       "      <td>Patient_0</td>\n",
       "      <td>0</td>\n",
       "      <td>0.008</td>\n",
       "      <td>-7.063727</td>\n",
       "      <td>-6.534853</td>\n",
       "      <td>-5.473887</td>\n",
       "      <td>1.252795</td>\n",
       "      <td>0.461665</td>\n",
       "      <td>-2.900879</td>\n",
       "      <td>5.545088</td>\n",
       "      <td>...</td>\n",
       "      <td>2.345254</td>\n",
       "      <td>2.294672</td>\n",
       "      <td>-1.734597</td>\n",
       "      <td>1.076149</td>\n",
       "      <td>-1.882763</td>\n",
       "      <td>-2.659847</td>\n",
       "      <td>-2.922985</td>\n",
       "      <td>-8.698761</td>\n",
       "      <td>-9.101163</td>\n",
       "      <td>-3.242604</td>\n",
       "    </tr>\n",
       "    <tr>\n",
       "      <th>...</th>\n",
       "      <td>...</td>\n",
       "      <td>...</td>\n",
       "      <td>...</td>\n",
       "      <td>...</td>\n",
       "      <td>...</td>\n",
       "      <td>...</td>\n",
       "      <td>...</td>\n",
       "      <td>...</td>\n",
       "      <td>...</td>\n",
       "      <td>...</td>\n",
       "      <td>...</td>\n",
       "      <td>...</td>\n",
       "      <td>...</td>\n",
       "      <td>...</td>\n",
       "      <td>...</td>\n",
       "      <td>...</td>\n",
       "      <td>...</td>\n",
       "      <td>...</td>\n",
       "      <td>...</td>\n",
       "      <td>...</td>\n",
       "      <td>...</td>\n",
       "    </tr>\n",
       "    <tr>\n",
       "      <th>4499995</th>\n",
       "      <td>Patient_299</td>\n",
       "      <td>1</td>\n",
       "      <td>29.990</td>\n",
       "      <td>21.100325</td>\n",
       "      <td>13.556267</td>\n",
       "      <td>4.901668</td>\n",
       "      <td>1.927698</td>\n",
       "      <td>-6.502246</td>\n",
       "      <td>-0.021275</td>\n",
       "      <td>-0.693315</td>\n",
       "      <td>...</td>\n",
       "      <td>-0.391076</td>\n",
       "      <td>6.867064</td>\n",
       "      <td>5.948630</td>\n",
       "      <td>1.295977</td>\n",
       "      <td>0.076105</td>\n",
       "      <td>0.182356</td>\n",
       "      <td>3.987044</td>\n",
       "      <td>4.721860</td>\n",
       "      <td>17.293222</td>\n",
       "      <td>2.710637</td>\n",
       "    </tr>\n",
       "    <tr>\n",
       "      <th>4499996</th>\n",
       "      <td>Patient_299</td>\n",
       "      <td>1</td>\n",
       "      <td>29.992</td>\n",
       "      <td>21.195600</td>\n",
       "      <td>13.716537</td>\n",
       "      <td>5.195432</td>\n",
       "      <td>0.334844</td>\n",
       "      <td>-6.742901</td>\n",
       "      <td>0.382840</td>\n",
       "      <td>-0.434173</td>\n",
       "      <td>...</td>\n",
       "      <td>-0.213212</td>\n",
       "      <td>6.677945</td>\n",
       "      <td>5.843429</td>\n",
       "      <td>1.497851</td>\n",
       "      <td>0.291411</td>\n",
       "      <td>0.365396</td>\n",
       "      <td>4.287427</td>\n",
       "      <td>4.614795</td>\n",
       "      <td>17.801438</td>\n",
       "      <td>3.305194</td>\n",
       "    </tr>\n",
       "    <tr>\n",
       "      <th>4499997</th>\n",
       "      <td>Patient_299</td>\n",
       "      <td>1</td>\n",
       "      <td>29.994</td>\n",
       "      <td>20.921385</td>\n",
       "      <td>13.773670</td>\n",
       "      <td>5.602830</td>\n",
       "      <td>-0.685703</td>\n",
       "      <td>-6.430155</td>\n",
       "      <td>0.670713</td>\n",
       "      <td>-0.212303</td>\n",
       "      <td>...</td>\n",
       "      <td>-0.002269</td>\n",
       "      <td>6.177276</td>\n",
       "      <td>5.681112</td>\n",
       "      <td>1.582168</td>\n",
       "      <td>0.471357</td>\n",
       "      <td>0.515938</td>\n",
       "      <td>4.492207</td>\n",
       "      <td>4.274391</td>\n",
       "      <td>17.920972</td>\n",
       "      <td>3.650496</td>\n",
       "    </tr>\n",
       "    <tr>\n",
       "      <th>4499998</th>\n",
       "      <td>Patient_299</td>\n",
       "      <td>1</td>\n",
       "      <td>29.996</td>\n",
       "      <td>20.290689</td>\n",
       "      <td>13.616093</td>\n",
       "      <td>6.075878</td>\n",
       "      <td>-0.926390</td>\n",
       "      <td>-5.591634</td>\n",
       "      <td>0.750814</td>\n",
       "      <td>-0.108663</td>\n",
       "      <td>...</td>\n",
       "      <td>0.209969</td>\n",
       "      <td>5.420653</td>\n",
       "      <td>5.440293</td>\n",
       "      <td>1.510845</td>\n",
       "      <td>0.569561</td>\n",
       "      <td>0.604439</td>\n",
       "      <td>4.494166</td>\n",
       "      <td>3.755393</td>\n",
       "      <td>17.528928</td>\n",
       "      <td>3.682801</td>\n",
       "    </tr>\n",
       "    <tr>\n",
       "      <th>4499999</th>\n",
       "      <td>Patient_299</td>\n",
       "      <td>1</td>\n",
       "      <td>29.998</td>\n",
       "      <td>19.410724</td>\n",
       "      <td>13.180083</td>\n",
       "      <td>6.533610</td>\n",
       "      <td>-0.404818</td>\n",
       "      <td>-4.395920</td>\n",
       "      <td>0.621488</td>\n",
       "      <td>-0.147007</td>\n",
       "      <td>...</td>\n",
       "      <td>0.371307</td>\n",
       "      <td>4.523759</td>\n",
       "      <td>5.124804</td>\n",
       "      <td>1.278980</td>\n",
       "      <td>0.553347</td>\n",
       "      <td>0.619482</td>\n",
       "      <td>4.267118</td>\n",
       "      <td>3.151962</td>\n",
       "      <td>16.710166</td>\n",
       "      <td>3.465782</td>\n",
       "    </tr>\n",
       "  </tbody>\n",
       "</table>\n",
       "<p>4500000 rows × 42 columns</p>\n",
       "</div>"
      ],
      "text/plain": [
       "             Patient  Diagnosis    Time         Fz        FC1        C3  \\\n",
       "0          Patient_0          0   0.000  -0.003063   0.532317  0.001482   \n",
       "1          Patient_0          0   0.002   0.384354  -9.423356 -2.123312   \n",
       "2          Patient_0          0   0.004 -10.426778  -0.000855 -4.058763   \n",
       "3          Patient_0          0   0.006  -3.071366  -5.627454 -2.771687   \n",
       "4          Patient_0          0   0.008  -7.063727  -6.534853 -5.473887   \n",
       "...              ...        ...     ...        ...        ...       ...   \n",
       "4499995  Patient_299          1  29.990  21.100325  13.556267  4.901668   \n",
       "4499996  Patient_299          1  29.992  21.195600  13.716537  5.195432   \n",
       "4499997  Patient_299          1  29.994  20.921385  13.773670  5.602830   \n",
       "4499998  Patient_299          1  29.996  20.290689  13.616093  6.075878   \n",
       "4499999  Patient_299          1  29.998  19.410724  13.180083  6.533610   \n",
       "\n",
       "               T7       CP5       CP1        P3  ...       POz       PO4  \\\n",
       "0       -3.656705  0.003446  1.835564 -1.143459  ...  4.138678 -6.841405   \n",
       "1        3.451568  0.037242 -0.264607  3.733971  ...  1.034917  1.692262   \n",
       "2       -1.748821 -1.910042  1.578725 -2.354752  ... -0.694865  6.356311   \n",
       "3        0.005552  0.137462 -2.914209  2.338753  ...  2.106869  4.835685   \n",
       "4        1.252795  0.461665 -2.900879  5.545088  ...  2.345254  2.294672   \n",
       "...           ...       ...       ...       ...  ...       ...       ...   \n",
       "4499995  1.927698 -6.502246 -0.021275 -0.693315  ... -0.391076  6.867064   \n",
       "4499996  0.334844 -6.742901  0.382840 -0.434173  ... -0.213212  6.677945   \n",
       "4499997 -0.685703 -6.430155  0.670713 -0.212303  ... -0.002269  6.177276   \n",
       "4499998 -0.926390 -5.591634  0.750814 -0.108663  ...  0.209969  5.420653   \n",
       "4499999 -0.404818 -4.395920  0.621488 -0.147007  ...  0.371307  4.523759   \n",
       "\n",
       "              PO8        P6        P2       CPz       CP4       TP8  \\\n",
       "0        0.004125  2.559477 -0.520981 -3.778777 -4.604167  0.002650   \n",
       "1       -2.393040  5.534984  0.422182 -2.865445 -3.591982  0.002650   \n",
       "2       -2.532005  1.142355  0.443890 -5.152515  4.297418 -2.462974   \n",
       "3       -1.696615  0.545445  0.835161 -4.528877 -6.043903  0.002650   \n",
       "4       -1.734597  1.076149 -1.882763 -2.659847 -2.922985 -8.698761   \n",
       "...           ...       ...       ...       ...       ...       ...   \n",
       "4499995  5.948630  1.295977  0.076105  0.182356  3.987044  4.721860   \n",
       "4499996  5.843429  1.497851  0.291411  0.365396  4.287427  4.614795   \n",
       "4499997  5.681112  1.582168  0.471357  0.515938  4.492207  4.274391   \n",
       "4499998  5.440293  1.510845  0.569561  0.604439  4.494166  3.755393   \n",
       "4499999  5.124804  1.278980  0.553347  0.619482  4.267118  3.151962   \n",
       "\n",
       "                C6        C2  \n",
       "0       -11.473443  5.263293  \n",
       "1         3.438419 -7.450541  \n",
       "2        -9.122838 -7.383072  \n",
       "3        -8.101640 -0.004458  \n",
       "4        -9.101163 -3.242604  \n",
       "...            ...       ...  \n",
       "4499995  17.293222  2.710637  \n",
       "4499996  17.801438  3.305194  \n",
       "4499997  17.920972  3.650496  \n",
       "4499998  17.528928  3.682801  \n",
       "4499999  16.710166  3.465782  \n",
       "\n",
       "[4500000 rows x 42 columns]"
      ]
     },
     "execution_count": 43,
     "metadata": {},
     "output_type": "execute_result"
    }
   ],
   "source": [
    "syn_real_model_df['Patient'] = patient1\n",
    "syn_real_model_df"
   ]
  },
  {
   "cell_type": "markdown",
   "id": "adcb6e6e-ddbf-4454-81c6-6d507a38c5fc",
   "metadata": {},
   "source": [
    "### 2. Preparación de los datos Reales"
   ]
  },
  {
   "cell_type": "code",
   "execution_count": null,
   "id": "52091323-9942-4c29-85bc-cf3ef9c63d68",
   "metadata": {},
   "outputs": [],
   "source": [
    "# Features - Características para entrenar el modelo\n",
    "features = model_df_real.iloc[:,1:]\n",
    "# Label - Columna de diagnóstico\n",
    "diagnosis = model_df_real.iloc[:,0]"
   ]
  },
  {
   "cell_type": "code",
   "execution_count": null,
   "id": "678d7fca-a918-4ca4-ba2f-2292670459e9",
   "metadata": {},
   "outputs": [],
   "source": [
    "diagnosis"
   ]
  },
  {
   "cell_type": "markdown",
   "id": "299d7ca4-489a-4169-9276-f6a506f0cb67",
   "metadata": {},
   "source": [
    "### 2. Preparación de los datos sintéticos"
   ]
  },
  {
   "cell_type": "code",
   "execution_count": null,
   "id": "a067e108-6648-4980-a936-48e1f3c12bc0",
   "metadata": {
    "tags": []
   },
   "outputs": [],
   "source": [
    "# Features - Características para entrenar el modelo\n",
    "features = syn_real_model_df.iloc[:,2:]\n",
    "# Label - Columna de diagnóstico de los datos sintéticos\n",
    "diagnosis = syn_real_model_df.iloc[:,1]\n",
    "diagnosis"
   ]
  },
  {
   "cell_type": "code",
   "execution_count": 20,
   "id": "61f5b48c-4c84-4e16-9b59-0512124e49d3",
   "metadata": {},
   "outputs": [
    {
     "data": {
      "text/plain": [
       "0         0\n",
       "1         0\n",
       "2         0\n",
       "3         0\n",
       "4         0\n",
       "         ..\n",
       "779995    1\n",
       "779996    1\n",
       "779997    1\n",
       "779998    1\n",
       "779999    1\n",
       "Name: Diagnosis, Length: 780000, dtype: int64"
      ]
     },
     "execution_count": 20,
     "metadata": {},
     "output_type": "execute_result"
    }
   ],
   "source": [
    "# Features - exclude Patient and diagnosis columns\n",
    "features_Real = real.iloc[:,2:]\n",
    "# Label -Columna de diagnóstico de los datos reales\n",
    "diagnosis_Real = real.iloc[:,1]\n",
    "diagnosis_Real"
   ]
  },
  {
   "cell_type": "markdown",
   "id": "2f6fe5df-3c70-43c0-b89a-afa961ee4fd9",
   "metadata": {},
   "source": [
    "### 3. División de los datos"
   ]
  },
  {
   "cell_type": "markdown",
   "id": "66e7179f-323f-4a56-8d05-4e01353639a7",
   "metadata": {},
   "source": [
    "La siguiente celda solo se ejecuta al evaluar solo datos reales"
   ]
  },
  {
   "cell_type": "code",
   "execution_count": null,
   "id": "e1a349f1-73c6-4b5d-8f1d-82ad429bbdc2",
   "metadata": {},
   "outputs": [],
   "source": [
    "#Separación de los datos en entrenamiento (Train) y prueba (Test)\n",
    "features_train, features_test, diagnosis_train, diagnosis_test = train_test_split(features, diagnosis, test_size=0.2, random_state=557) "
   ]
  },
  {
   "cell_type": "markdown",
   "id": "a5cd558b-279b-4ade-9ce8-a9e64ab032ef",
   "metadata": {},
   "source": [
    "### 4. Definición del modelo"
   ]
  },
  {
   "cell_type": "code",
   "execution_count": null,
   "id": "70e39892-c257-4b95-8cb5-0ec4995f91a9",
   "metadata": {},
   "outputs": [],
   "source": [
    "# Definición del modelo con los primeros parámetros - Datos reales\n",
    "creditxgb = xgb.XGBClassifier(\n",
    " learning_rate =0.1,\n",
    " n_estimators=100,\n",
    " max_depth=10,\n",
    " min_child_weight=50,\n",
    " gamma=0,\n",
    " subsample=0.8,\n",
    " colsample_bytree=0.8,\n",
    " objective= 'binary:logistic'\n",
    ")"
   ]
  },
  {
   "cell_type": "markdown",
   "id": "fd0edbf4-1cb3-4db1-94d3-ea587906967d",
   "metadata": {},
   "source": [
    "### 5. Entrenamiento del modelo"
   ]
  },
  {
   "cell_type": "code",
   "execution_count": null,
   "id": "a312b063-ea4b-4be1-8eb2-3d57682d9a64",
   "metadata": {
    "tags": []
   },
   "outputs": [],
   "source": [
    "# Implementación del modelo con los parámetros preliminares\n",
    "creditxgb.fit(features_train,diagnosis_train)"
   ]
  },
  {
   "cell_type": "markdown",
   "id": "49eb6c64-8b44-4124-aed2-127883ff8235",
   "metadata": {},
   "source": [
    "### 6. Evaluación del modelo"
   ]
  },
  {
   "cell_type": "code",
   "execution_count": null,
   "id": "1ea53de1-8f8d-45a0-817f-2c64ac126e22",
   "metadata": {
    "tags": []
   },
   "outputs": [],
   "source": [
    "# Evaluar las probabilidades del diagnóstico\n",
    "pred_prob = creditxgb.predict_proba(features_train)\n",
    "pred_prob_1 = pred_prob[:,1]\n",
    "np.quantile(pred_prob_1,0.88)\n",
    "pred_class = np.where(pred_prob_1>=0.33,1,0)"
   ]
  },
  {
   "cell_type": "code",
   "execution_count": null,
   "id": "07570048-3072-46fd-83e0-1637de41c767",
   "metadata": {},
   "outputs": [],
   "source": [
    "#Esta celda calcula la exactitud de la predicción sobre los datos de entrenamiento\n",
    "accuracy = accuracy_score(diagnosis_train, pred_class)\n",
    "print(\"Accuracy: %.2f%%\" % (accuracy * 100.0))"
   ]
  },
  {
   "cell_type": "code",
   "execution_count": null,
   "id": "d9c0165c-96ad-4c6d-b038-79b56867e1ad",
   "metadata": {},
   "outputs": [],
   "source": [
    "print(mean_absolute_error(diagnosis_train, pred_class))"
   ]
  },
  {
   "cell_type": "markdown",
   "id": "e9f805e4-58d0-40fb-90fb-cf9dc2380e9a",
   "metadata": {},
   "source": [
    "### 7. Afinamiento del modelo"
   ]
  },
  {
   "cell_type": "code",
   "execution_count": null,
   "id": "3504c96a-060e-4a01-a8a6-9042cfd57590",
   "metadata": {},
   "outputs": [],
   "source": [
    "# Parámetros nuevos para agenerar un modelo óptimo\n",
    "Opticreditxgb = xgb.XGBClassifier(\n",
    " learning_rate =0.3,\n",
    " n_estimators=100,\n",
    " max_depth=15,\n",
    " min_child_weight=6,\n",
    " gamma=0.0,\n",
    " subsample=0.9,\n",
    " colsample_bytree=0.6,\n",
    " objective= 'binary:logistic'\n",
    ")\n",
    "\n",
    "#Volvemos a entrenar el modelo con los nuevos parámetros\n",
    "Opticreditxgb.fit(features_train,diagnosis_train)"
   ]
  },
  {
   "cell_type": "markdown",
   "id": "c78c0f54-8fc6-4a0d-88cb-1e9616d8e515",
   "metadata": {},
   "source": [
    "### 8.1 Evaluación final sobre los datos de entrenamiento"
   ]
  },
  {
   "cell_type": "code",
   "execution_count": null,
   "id": "b5439dd2-4579-483f-9454-fab3e1c5f7fb",
   "metadata": {},
   "outputs": [],
   "source": [
    "#Si se entrena el modelo con los datos reales:\n",
    "features_train = features_train\n",
    "diagnosis_train = diagnosis_train\n",
    "features_test = features_test\n",
    "diagnosis_test = diagnosis_test"
   ]
  },
  {
   "cell_type": "code",
   "execution_count": null,
   "id": "5aba7338-14e3-4d21-b8f2-ebf5a65fbf36",
   "metadata": {},
   "outputs": [],
   "source": [
    "#Si se entrena el modelo con los datos sintéticos:\n",
    "features_train = features\n",
    "diagnosis_train = diagnosis\n",
    "features_test = features_Real\n",
    "diagnosis_test = diagnosis_Real"
   ]
  },
  {
   "cell_type": "code",
   "execution_count": null,
   "id": "a170094f-6be5-470d-bbcb-e5399d622588",
   "metadata": {},
   "outputs": [],
   "source": [
    "#Esta celda imprime la gráfica de importancia de características\n",
    "xgb.plot_importance(Opticreditxgb)\n",
    "plt.rcParams['figure.figsize'] = [5, 5]\n",
    "plt.title('Importancia de las características - Señales Reales *')\n",
    "plt.xlabel('Puntuación')\n",
    "plt.ylabel('Características')\n",
    "plt.show()"
   ]
  },
  {
   "cell_type": "code",
   "execution_count": null,
   "id": "21120f02-554f-49b6-9b89-7cf5a3bce293",
   "metadata": {},
   "outputs": [],
   "source": [
    "# Evaluar las probabilidades del diagnóstico\n",
    "pred_prob = Opticreditxgb.predict_proba(features_train)\n",
    "pred_prob_1 = pred_prob[:,1]\n",
    "np.quantile(pred_prob_1,0.88)\n",
    "#Para datos reales:\n",
    "pred_class = np.where(pred_prob_1>=0.33,1,0)\n",
    "#Para datos sintéticos:\n",
    "pred_class = np.where(pred_prob_1>=0.5,1,0)"
   ]
  },
  {
   "cell_type": "code",
   "execution_count": null,
   "id": "3d544a85-7efd-48cb-ad2b-6c4f965ee492",
   "metadata": {},
   "outputs": [],
   "source": [
    "#Esta celda calcula la exactitud de la predicción sobre los datos de entrenamiento e \n",
    "#imprime los verdaderos y falsos positivos y negativos\n",
    "accuracy = accuracy_score(diagnosis_train, pred_class)\n",
    "print(\"Accuracy: %.2f%%\" % (accuracy * 100.0))\n",
    "\n",
    "cnf_matrix = metrics.confusion_matrix(diagnosis_train, pred_class)\n",
    "p = sns.heatmap(pd.DataFrame(cnf_matrix), annot=True, cmap=\"YlGnBu\" ,fmt='g')\n",
    "plt.title('Matriz de confusión - Train')\n",
    "plt.ylabel('Diagnóstico Real')\n",
    "plt.xlabel('Diagnóstico Predicho')"
   ]
  },
  {
   "cell_type": "code",
   "execution_count": null,
   "id": "b15cf31f-9cf0-4924-80eb-f565b28b09da",
   "metadata": {},
   "outputs": [],
   "source": [
    "#Con esta celda se calcula el error cuadrado medio \n",
    "print(mean_absolute_error(diagnosis_train, pred_class))"
   ]
  },
  {
   "cell_type": "code",
   "execution_count": null,
   "id": "4775ad46-834a-46dd-bc00-9d19f33d02ca",
   "metadata": {},
   "outputs": [],
   "source": [
    "#Reporte de clasificación\n",
    "print(classification_report(diagnosis_train, pred_class))"
   ]
  },
  {
   "cell_type": "code",
   "execution_count": null,
   "id": "42ffd598-7cfb-44ea-a79b-d464f2b1b210",
   "metadata": {},
   "outputs": [],
   "source": [
    "# Curva ROC que evalua el rendimiento del modelo\n",
    "def plot_roc_curve(fpr, tpr):\n",
    "    plt.plot(fpr, tpr, color='orange', label='ROC')\n",
    "    plt.plot([0, 1], [0, 1], color='darkblue', linestyle='--')\n",
    "    plt.xlabel('Tasa de falsos positivos')\n",
    "    plt.ylabel('Tasa de verdaderos positivos')\n",
    "    plt.title('Curva ROC - Datos reales - Train')\n",
    "    plt.legend()\n",
    "    plt.show()\n",
    "    \n",
    "fpr_dev, tpr_dev, thresholds_dev =roc_curve(diagnosis_train,pred_class)\n",
    "plot_roc_curve(fpr_dev, tpr_dev)\n",
    "plt.show()"
   ]
  },
  {
   "cell_type": "markdown",
   "id": "1771c947-cd9a-497a-a82e-80dd1080bf5f",
   "metadata": {},
   "source": [
    "### 8.2 Evaluación sobre los datos de prueba\n"
   ]
  },
  {
   "cell_type": "code",
   "execution_count": null,
   "id": "e838144b-f384-4ce2-a92f-4bb00e4b574d",
   "metadata": {},
   "outputs": [],
   "source": [
    "# Evaluar las probabilidades del diagnóstico\n",
    "pred_prob_testing = Opticreditxgb.predict_proba(features_test)\n",
    "pred_prob_test_1 = pred_prob_testing[:,1]\n",
    "np.quantile(pred_prob_test_1,0.88)\n",
    "#Para datos reales:\n",
    "pred_class_testing = np.where(pred_prob_test_1>=0.33,1,0)\n",
    "#Para datos sintéticos:\n",
    "pred_class_testing = np.where(pred_prob_test_1>=0.6,1,0)"
   ]
  },
  {
   "cell_type": "code",
   "execution_count": null,
   "id": "22bb0fd7-6cbd-4e52-8e12-196dcb209815",
   "metadata": {},
   "outputs": [],
   "source": [
    "#Esta celda calcula la exactitud de la predicción sobre los datos de prueba e \n",
    "#imprime los verdaderos y falsos positivos y negativos\n",
    "accuracy = accuracy_score(diagnosis_test, pred_class_testing)\n",
    "print(\"Accuracy: %.2f%%\" % (accuracy * 100.0))\n",
    "\n",
    "cnf_matrix = metrics.confusion_matrix(diagnosis_test, pred_class_testing)\n",
    "p = sns.heatmap(pd.DataFrame(cnf_matrix), annot=True, cmap=\"YlGnBu\" ,fmt='g')\n",
    "plt.title('Matriz de confusión - Test')\n",
    "plt.ylabel('Diagnóstico Real')\n",
    "plt.xlabel('Diagnóstico Predicho')"
   ]
  },
  {
   "cell_type": "code",
   "execution_count": null,
   "id": "0a24254f-891f-4e39-b5ad-aef9df814150",
   "metadata": {},
   "outputs": [],
   "source": [
    "print(mean_absolute_error(diagnosis_test, pred_class_testing))"
   ]
  },
  {
   "cell_type": "code",
   "execution_count": null,
   "id": "cdebab29-aaca-4e90-9869-1b3f04616b91",
   "metadata": {},
   "outputs": [],
   "source": [
    "#Reporte de clasificación\n",
    "print(classification_report(diagnosis_test, pred_class_testing))"
   ]
  },
  {
   "cell_type": "code",
   "execution_count": null,
   "id": "b07655b3-e9be-4e88-86a8-5c6600bcd86c",
   "metadata": {},
   "outputs": [],
   "source": [
    "# Curva ROC que evalua el rendimiento del modelo\n",
    "def plot_roc_curve(fpr, tpr):\n",
    "    plt.plot(fpr, tpr, color='orange', label='ROC')\n",
    "    plt.plot([0, 1], [0, 1], color='darkblue', linestyle='--')\n",
    "    plt.xlabel('Tasa de falsos positivos')\n",
    "    plt.ylabel('Tasa de verdaderos positivos')\n",
    "    plt.title('Curva ROC - Datos reales - Test')\n",
    "    plt.legend()\n",
    "    plt.show()\n",
    "\n",
    "fpr_dev, tpr_dev, thresholds_dev =roc_curve(diagnosis_test,pred_class_testing)\n",
    "plot_roc_curve(fpr_dev, tpr_dev)\n",
    "plt.show()"
   ]
  }
 ],
 "metadata": {
  "kernelspec": {
   "display_name": "Python 3 (ipykernel)",
   "language": "python",
   "name": "python3"
  },
  "language_info": {
   "codemirror_mode": {
    "name": "ipython",
    "version": 3
   },
   "file_extension": ".py",
   "mimetype": "text/x-python",
   "name": "python",
   "nbconvert_exporter": "python",
   "pygments_lexer": "ipython3",
   "version": "3.9.13"
  }
 },
 "nbformat": 4,
 "nbformat_minor": 5
}
