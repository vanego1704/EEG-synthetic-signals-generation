{
 "cells": [
  {
   "cell_type": "markdown",
   "id": "e3c52291-8e82-431f-838b-704c61b7b785",
   "metadata": {},
   "source": [
    "# Concatencación y análisis de señales sintéticas"
   ]
  },
  {
   "cell_type": "code",
   "execution_count": 1,
   "id": "03881d96-dd29-494a-956b-2f6539c18ed8",
   "metadata": {},
   "outputs": [],
   "source": [
    "#Carga de paquetes \n",
    "#Core\n",
    "import numpy as np\n",
    "import pandas as pd\n",
    "import os\n",
    "from datetime import datetime\n",
    "import scipy.io\n",
    "import matplotlib.pyplot as plt\n",
    "import plotly.express as px\n",
    "from scipy.fft import fft, fftfreq\n",
    "from matplotlib import cm\n",
    "from mpl_toolkits.mplot3d import Axes3D\n",
    "from mpl_toolkits.mplot3d import Axes3D\n",
    "import pylab as pl\n",
    "import seaborn as sns\n",
    "sns.set()\n",
    "import warnings\n",
    "from collections import Counter\n",
    "warnings.filterwarnings('ignore')\n",
    "from numpy import mean\n",
    "import statistics\n",
    "from IPython.display import HTML, display_html, display\n",
    "import random\n",
    "import timeit"
   ]
  },
  {
   "cell_type": "code",
   "execution_count": 2,
   "id": "8038b1db-c88d-45b6-9a7c-872c982d2ff6",
   "metadata": {},
   "outputs": [],
   "source": [
    "#Esto permite generar gráficas interactivas\n",
    "%matplotlib qt"
   ]
  },
  {
   "cell_type": "code",
   "execution_count": 3,
   "id": "284f17ca-c9db-4834-a669-34381f2eb20d",
   "metadata": {},
   "outputs": [],
   "source": [
    "#Ajuste del directorio - (Al trabajar con un disco externo se requiere ajustar el directorio dependiendo del ordenador en el que se trabaje)\n",
    "#Si se trabaja desde el odenador propio correr esta celda\n",
    "path = 'C:\\\\Users\\\\Vaneza'\n",
    "os.chdir(path)\n",
    "os.getcwd()\n",
    "disco = 'E'"
   ]
  },
  {
   "cell_type": "code",
   "execution_count": null,
   "id": "2f7a71e8-658f-4138-93be-274869a8fdec",
   "metadata": {},
   "outputs": [],
   "source": [
    "#Si se trabaja desde el ordenador del trabajo correr esta celda\n",
    "path = 'C:\\\\Users\\\\Y8764982H\\\\OneDrive - Generalitat de Catalunya/TFG/'\n",
    "os.chdir(path)\n",
    "os.getcwd()\n",
    "disco = 'D'"
   ]
  },
  {
   "cell_type": "markdown",
   "id": "25ed7008-4ca8-4907-a623-61bb8f69b006",
   "metadata": {},
   "source": [
    "## Carga de archivos"
   ]
  },
  {
   "cell_type": "code",
   "execution_count": 4,
   "id": "c2238bdd-be1e-41f8-92a6-dd37b2dbc8a1",
   "metadata": {},
   "outputs": [],
   "source": [
    "#Señales reales\n",
    "all_CT_PD_30s= pd.read_csv('%s:\\\\TFG\\Data and Code (1)\\\\Dataset\\\\IowaDataset\\\\segmented_tables\\\\all_CT_PD_30s_39ch.csv'%(disco))"
   ]
  },
  {
   "cell_type": "code",
   "execution_count": 5,
   "id": "b72e5488-1485-4306-99fe-b9047f1dbc71",
   "metadata": {
    "tags": []
   },
   "outputs": [
    {
     "name": "stdout",
     "output_type": "stream",
     "text": [
      "dict_keys(['all_CT_PD_30s_39ch_10_Syn_0.csv', 'all_CT_PD_30s_39ch_10_Syn_1.csv', 'all_CT_PD_30s_39ch_10_Syn_10.csv', 'all_CT_PD_30s_39ch_10_Syn_2.csv', 'all_CT_PD_30s_39ch_10_Syn_3.csv', 'all_CT_PD_30s_39ch_10_Syn_4.csv', 'all_CT_PD_30s_39ch_10_Syn_6.csv', 'all_CT_PD_30s_39ch_10_Syn_5.csv', 'all_CT_PD_30s_39ch_10_Syn_7.csv', 'all_CT_PD_30s_39ch_10_Syn_8.csv', 'all_CT_PD_30s_39ch_10_Syn_9.csv', 'all_CT_PD_30s_39ch_10_Syn_17.csv', 'all_CT_PD_30s_39ch_10_Syn_11.csv', 'all_CT_PD_30s_39ch_10_Syn_12.csv', 'all_CT_PD_30s_39ch_10_Syn_13.csv', 'all_CT_PD_30s_39ch_10_Syn_14.csv', 'all_CT_PD_30s_39ch_10_Syn_15.csv', 'all_CT_PD_30s_39ch_10_Syn_16.csv', 'all_CT_PD_30s_39ch_10_Syn_18.csv', 'all_CT_PD_30s_39ch_10_Syn_19.csv', 'all_CT_PD_30s_39ch_10_Syn_20.csv', 'all_CT_PD_30s_39ch_10_Syn_22.csv', 'all_CT_PD_30s_39ch_10_Syn_21.csv', 'all_CT_PD_30s_39ch_10_Syn_23.csv', 'all_CT_PD_30s_39ch_10_Syn_24.csv', 'all_CT_PD_30s_39ch_10_Syn_25.csv', 'all_CT_PD_30s_39ch_10_Syn_26.csv'])\n"
     ]
    }
   ],
   "source": [
    "#Carga de todas las señales generadas por SDV\n",
    "files_O = []\n",
    "for dirname, _, filenames in os.walk('%s:\\\\TFG\\Data and Code (1)\\\\Dataset\\\\IowaDataset\\\\\\Tablas_Sinteticas_SDV\\\\'%(disco)):\n",
    "    for filename in filenames:\n",
    "        if filename.find(\".csv\") != -1 and filename.startswith('all_CT_PD_30s_39') and not \"-checkpoint.csv\" in filename:\n",
    "            files_O.append(filename)\n",
    "tables_O = {p: pd.read_csv('%s:\\\\TFG\\\\Data and Code (1)\\\\Dataset\\\\IowaDataset\\\\\\Tablas_Sinteticas_SDV\\\\'%(disco) + p) for p in files_O}\n",
    "\n",
    "print(tables_O.keys())"
   ]
  },
  {
   "cell_type": "markdown",
   "id": "de073e04-04c7-467c-bc1b-b9d89236df80",
   "metadata": {},
   "source": [
    "Las siguientes 3 celdas se corren después de haber genrado los archivos"
   ]
  },
  {
   "cell_type": "code",
   "execution_count": 23,
   "id": "13f1076a-9750-4ccd-81ec-62274d7bd8dc",
   "metadata": {},
   "outputs": [],
   "source": [
    "#Señales sintéticas no filtradas\n",
    "syn_NF = pd.read_csv('%s:\\\\TFG\\Data and Code (1)\\\\Dataset\\\\IowaDataset\\\\270_CT_PD_30s_39ch_syn_NF.csv'%(disco))"
   ]
  },
  {
   "cell_type": "code",
   "execution_count": 24,
   "id": "cdbb103a-e076-42aa-8697-27e3d176b59f",
   "metadata": {},
   "outputs": [],
   "source": [
    "#Señales sintéticas filtradas\n",
    "syn_F = pd.read_csv('%s:\\\\TFG\\Data and Code (1)\\\\Dataset\\\\IowaDataset\\\\270_CT_PD_30s_39ch_syn_NA.csv'%(disco))"
   ]
  },
  {
   "cell_type": "code",
   "execution_count": 25,
   "id": "191243fc-c947-4b9f-92ed-deb7b2e511bf",
   "metadata": {},
   "outputs": [],
   "source": [
    "#Señales sintéticas filtradas y aumentadas\n",
    "syn_A = pd.read_csv('%s:\\\\TFG\\Data and Code (1)\\\\Dataset\\\\IowaDataset\\\\270_CT_PD_30s_39ch_syn_A.csv'%(disco))"
   ]
  },
  {
   "cell_type": "markdown",
   "id": "9d8c66f8-9582-40af-b64a-10b162551f6c",
   "metadata": {
    "tags": []
   },
   "source": [
    "## Concatenación de las señales"
   ]
  },
  {
   "cell_type": "code",
   "execution_count": 33,
   "id": "7e41e98c-05c1-4877-9877-545cedba56b3",
   "metadata": {
    "tags": []
   },
   "outputs": [
    {
     "data": {
      "text/plain": [
       "10"
      ]
     },
     "execution_count": 33,
     "metadata": {},
     "output_type": "execute_result"
    }
   ],
   "source": [
    "tables_O['all_CT_PD_30s_39ch_10_Syn_0.csv']['Patient'].nunique() #Indica cuántos pacientes contiene esta tabla"
   ]
  },
  {
   "cell_type": "code",
   "execution_count": null,
   "id": "b1842be3-957e-47c4-b103-166c2424b502",
   "metadata": {},
   "outputs": [],
   "source": [
    "#Esta función concatena todas las señales generadas\n",
    "Syn_new = tables_O['all_CT_PD_30s_39ch_10_Syn_0.csv']\n",
    "for i in range(1,27):\n",
    "    Syn_new = pd.concat([Syn_new,tables_O['all_CT_PD_30s_39ch_10_Syn_%i.csv'%(i)]],axis=0).reset_index(drop=True)\n",
    "Syn_new"
   ]
  },
  {
   "cell_type": "code",
   "execution_count": null,
   "id": "7a7cacf9-3994-4483-9520-1599cb8b8b75",
   "metadata": {},
   "outputs": [],
   "source": [
    "#Creación de nombres de pacientes para crear ventanas de 30 segundos\n",
    "for i in range(0,270):\n",
    "    patient = ['Patient_%s'%(i)] * 15000\n",
    "    if (i == 0):\n",
    "        patient1 = pd.DataFrame(patient,columns=['Patient'])\n",
    "    else:\n",
    "        patient1_t = pd.DataFrame(patient,columns=['Patient'])\n",
    "        patient1 = pd.concat([patient1,patient1_t],axis=0).reset_index(drop=True)\n",
    "        \n",
    "patient1"
   ]
  },
  {
   "cell_type": "code",
   "execution_count": null,
   "id": "e29be0ab-e88b-413b-b7c8-cd7a9eed5716",
   "metadata": {},
   "outputs": [],
   "source": [
    "#Cambiar la columna de tiempo de Datetime a float (volver al vector de 0 a 30s)\n",
    "rng = np.arange(0.000, 30, 0.002)\n",
    "rng = pd.DataFrame(rng,columns=['Time'])\n",
    "#print(rng)\n",
    "#print(len(rng))\n",
    "Time_df = rng\n",
    "for i in range(0,269):\n",
    "    Time_df = pd.concat([Time_df,rng],axis=0).reset_index(drop=True)\n",
    "Time_df"
   ]
  },
  {
   "cell_type": "code",
   "execution_count": 11,
   "id": "acb7cf7c-3ea8-489d-b213-2d689268375a",
   "metadata": {},
   "outputs": [
    {
     "data": {
      "text/html": [
       "<div>\n",
       "<style scoped>\n",
       "    .dataframe tbody tr th:only-of-type {\n",
       "        vertical-align: middle;\n",
       "    }\n",
       "\n",
       "    .dataframe tbody tr th {\n",
       "        vertical-align: top;\n",
       "    }\n",
       "\n",
       "    .dataframe thead th {\n",
       "        text-align: right;\n",
       "    }\n",
       "</style>\n",
       "<table border=\"1\" class=\"dataframe\">\n",
       "  <thead>\n",
       "    <tr style=\"text-align: right;\">\n",
       "      <th></th>\n",
       "      <th>Patient</th>\n",
       "      <th>Diagnosis</th>\n",
       "      <th>Time</th>\n",
       "      <th>Fz</th>\n",
       "      <th>FC1</th>\n",
       "      <th>C3</th>\n",
       "      <th>T7</th>\n",
       "      <th>CP5</th>\n",
       "      <th>CP1</th>\n",
       "      <th>P3</th>\n",
       "      <th>...</th>\n",
       "      <th>POz</th>\n",
       "      <th>PO4</th>\n",
       "      <th>PO8</th>\n",
       "      <th>P6</th>\n",
       "      <th>P2</th>\n",
       "      <th>CPz</th>\n",
       "      <th>CP4</th>\n",
       "      <th>TP8</th>\n",
       "      <th>C6</th>\n",
       "      <th>C2</th>\n",
       "    </tr>\n",
       "  </thead>\n",
       "  <tbody>\n",
       "    <tr>\n",
       "      <th>0</th>\n",
       "      <td>Patient_0</td>\n",
       "      <td>0</td>\n",
       "      <td>0.000</td>\n",
       "      <td>-0.003063</td>\n",
       "      <td>0.532317</td>\n",
       "      <td>0.001482</td>\n",
       "      <td>-3.656705</td>\n",
       "      <td>0.003446</td>\n",
       "      <td>1.835564</td>\n",
       "      <td>-1.143459</td>\n",
       "      <td>...</td>\n",
       "      <td>4.138678</td>\n",
       "      <td>-6.841405</td>\n",
       "      <td>0.004125</td>\n",
       "      <td>2.559477</td>\n",
       "      <td>-0.520981</td>\n",
       "      <td>-3.778777</td>\n",
       "      <td>-4.604167</td>\n",
       "      <td>0.002650</td>\n",
       "      <td>-11.473443</td>\n",
       "      <td>5.263293</td>\n",
       "    </tr>\n",
       "    <tr>\n",
       "      <th>1</th>\n",
       "      <td>Patient_0</td>\n",
       "      <td>0</td>\n",
       "      <td>0.002</td>\n",
       "      <td>0.384354</td>\n",
       "      <td>-9.423356</td>\n",
       "      <td>-2.123312</td>\n",
       "      <td>3.451568</td>\n",
       "      <td>0.037242</td>\n",
       "      <td>-0.264607</td>\n",
       "      <td>3.733971</td>\n",
       "      <td>...</td>\n",
       "      <td>1.034917</td>\n",
       "      <td>1.692262</td>\n",
       "      <td>-2.393040</td>\n",
       "      <td>5.534984</td>\n",
       "      <td>0.422182</td>\n",
       "      <td>-2.865445</td>\n",
       "      <td>-3.591982</td>\n",
       "      <td>0.002650</td>\n",
       "      <td>3.438419</td>\n",
       "      <td>-7.450541</td>\n",
       "    </tr>\n",
       "    <tr>\n",
       "      <th>2</th>\n",
       "      <td>Patient_0</td>\n",
       "      <td>0</td>\n",
       "      <td>0.004</td>\n",
       "      <td>-10.426778</td>\n",
       "      <td>-0.000855</td>\n",
       "      <td>-4.058763</td>\n",
       "      <td>-1.748821</td>\n",
       "      <td>-1.910042</td>\n",
       "      <td>1.578725</td>\n",
       "      <td>-2.354752</td>\n",
       "      <td>...</td>\n",
       "      <td>-0.694865</td>\n",
       "      <td>6.356311</td>\n",
       "      <td>-2.532005</td>\n",
       "      <td>1.142355</td>\n",
       "      <td>0.443890</td>\n",
       "      <td>-5.152515</td>\n",
       "      <td>4.297418</td>\n",
       "      <td>-2.462974</td>\n",
       "      <td>-9.122838</td>\n",
       "      <td>-7.383072</td>\n",
       "    </tr>\n",
       "    <tr>\n",
       "      <th>3</th>\n",
       "      <td>Patient_0</td>\n",
       "      <td>0</td>\n",
       "      <td>0.006</td>\n",
       "      <td>-3.071366</td>\n",
       "      <td>-5.627454</td>\n",
       "      <td>-2.771687</td>\n",
       "      <td>0.005552</td>\n",
       "      <td>0.137462</td>\n",
       "      <td>-2.914209</td>\n",
       "      <td>2.338753</td>\n",
       "      <td>...</td>\n",
       "      <td>2.106869</td>\n",
       "      <td>4.835685</td>\n",
       "      <td>-1.696615</td>\n",
       "      <td>0.545445</td>\n",
       "      <td>0.835161</td>\n",
       "      <td>-4.528877</td>\n",
       "      <td>-6.043903</td>\n",
       "      <td>0.002650</td>\n",
       "      <td>-8.101640</td>\n",
       "      <td>-0.004458</td>\n",
       "    </tr>\n",
       "    <tr>\n",
       "      <th>4</th>\n",
       "      <td>Patient_0</td>\n",
       "      <td>0</td>\n",
       "      <td>0.008</td>\n",
       "      <td>-7.063727</td>\n",
       "      <td>-6.534853</td>\n",
       "      <td>-5.473887</td>\n",
       "      <td>1.252795</td>\n",
       "      <td>0.461665</td>\n",
       "      <td>-2.900879</td>\n",
       "      <td>5.545088</td>\n",
       "      <td>...</td>\n",
       "      <td>2.345254</td>\n",
       "      <td>2.294672</td>\n",
       "      <td>-1.734597</td>\n",
       "      <td>1.076149</td>\n",
       "      <td>-1.882763</td>\n",
       "      <td>-2.659847</td>\n",
       "      <td>-2.922985</td>\n",
       "      <td>-8.698761</td>\n",
       "      <td>-9.101163</td>\n",
       "      <td>-3.242604</td>\n",
       "    </tr>\n",
       "    <tr>\n",
       "      <th>...</th>\n",
       "      <td>...</td>\n",
       "      <td>...</td>\n",
       "      <td>...</td>\n",
       "      <td>...</td>\n",
       "      <td>...</td>\n",
       "      <td>...</td>\n",
       "      <td>...</td>\n",
       "      <td>...</td>\n",
       "      <td>...</td>\n",
       "      <td>...</td>\n",
       "      <td>...</td>\n",
       "      <td>...</td>\n",
       "      <td>...</td>\n",
       "      <td>...</td>\n",
       "      <td>...</td>\n",
       "      <td>...</td>\n",
       "      <td>...</td>\n",
       "      <td>...</td>\n",
       "      <td>...</td>\n",
       "      <td>...</td>\n",
       "      <td>...</td>\n",
       "    </tr>\n",
       "    <tr>\n",
       "      <th>4049995</th>\n",
       "      <td>Patient_269</td>\n",
       "      <td>0</td>\n",
       "      <td>29.990</td>\n",
       "      <td>-6.456685</td>\n",
       "      <td>0.376467</td>\n",
       "      <td>-6.761913</td>\n",
       "      <td>3.266033</td>\n",
       "      <td>2.686669</td>\n",
       "      <td>-0.851482</td>\n",
       "      <td>1.591529</td>\n",
       "      <td>...</td>\n",
       "      <td>1.836043</td>\n",
       "      <td>-7.254310</td>\n",
       "      <td>0.183805</td>\n",
       "      <td>-1.654815</td>\n",
       "      <td>-1.223988</td>\n",
       "      <td>-2.026892</td>\n",
       "      <td>-2.636632</td>\n",
       "      <td>0.002650</td>\n",
       "      <td>3.049614</td>\n",
       "      <td>-6.960283</td>\n",
       "    </tr>\n",
       "    <tr>\n",
       "      <th>4049996</th>\n",
       "      <td>Patient_269</td>\n",
       "      <td>0</td>\n",
       "      <td>29.992</td>\n",
       "      <td>-0.931735</td>\n",
       "      <td>-1.220577</td>\n",
       "      <td>-3.802091</td>\n",
       "      <td>2.555132</td>\n",
       "      <td>-1.004465</td>\n",
       "      <td>-3.638169</td>\n",
       "      <td>-0.663728</td>\n",
       "      <td>...</td>\n",
       "      <td>-1.472068</td>\n",
       "      <td>-3.454092</td>\n",
       "      <td>-0.188233</td>\n",
       "      <td>-4.008728</td>\n",
       "      <td>0.565905</td>\n",
       "      <td>-1.954039</td>\n",
       "      <td>5.044697</td>\n",
       "      <td>-1.525932</td>\n",
       "      <td>0.006506</td>\n",
       "      <td>-2.620820</td>\n",
       "    </tr>\n",
       "    <tr>\n",
       "      <th>4049997</th>\n",
       "      <td>Patient_269</td>\n",
       "      <td>0</td>\n",
       "      <td>29.994</td>\n",
       "      <td>-1.048792</td>\n",
       "      <td>-1.782919</td>\n",
       "      <td>2.049632</td>\n",
       "      <td>1.945938</td>\n",
       "      <td>-0.263482</td>\n",
       "      <td>-2.100360</td>\n",
       "      <td>2.032842</td>\n",
       "      <td>...</td>\n",
       "      <td>1.692149</td>\n",
       "      <td>-3.302905</td>\n",
       "      <td>-7.077047</td>\n",
       "      <td>4.051019</td>\n",
       "      <td>-0.316741</td>\n",
       "      <td>-7.125548</td>\n",
       "      <td>-0.012108</td>\n",
       "      <td>-3.688537</td>\n",
       "      <td>-5.642081</td>\n",
       "      <td>-5.176935</td>\n",
       "    </tr>\n",
       "    <tr>\n",
       "      <th>4049998</th>\n",
       "      <td>Patient_269</td>\n",
       "      <td>0</td>\n",
       "      <td>29.996</td>\n",
       "      <td>-0.144217</td>\n",
       "      <td>-0.917059</td>\n",
       "      <td>-2.721668</td>\n",
       "      <td>0.350005</td>\n",
       "      <td>5.262793</td>\n",
       "      <td>0.075380</td>\n",
       "      <td>-1.754320</td>\n",
       "      <td>...</td>\n",
       "      <td>1.477638</td>\n",
       "      <td>-2.990365</td>\n",
       "      <td>-4.924588</td>\n",
       "      <td>-4.172351</td>\n",
       "      <td>-1.260971</td>\n",
       "      <td>-1.715001</td>\n",
       "      <td>-3.955666</td>\n",
       "      <td>4.047595</td>\n",
       "      <td>-7.346419</td>\n",
       "      <td>-4.659592</td>\n",
       "    </tr>\n",
       "    <tr>\n",
       "      <th>4049999</th>\n",
       "      <td>Patient_269</td>\n",
       "      <td>0</td>\n",
       "      <td>29.998</td>\n",
       "      <td>-1.980416</td>\n",
       "      <td>1.736835</td>\n",
       "      <td>-2.720117</td>\n",
       "      <td>-1.573157</td>\n",
       "      <td>2.509254</td>\n",
       "      <td>0.109298</td>\n",
       "      <td>0.747971</td>\n",
       "      <td>...</td>\n",
       "      <td>-0.156661</td>\n",
       "      <td>-0.263711</td>\n",
       "      <td>-6.130511</td>\n",
       "      <td>-2.905189</td>\n",
       "      <td>-2.588565</td>\n",
       "      <td>-2.142810</td>\n",
       "      <td>-3.596918</td>\n",
       "      <td>-5.567571</td>\n",
       "      <td>-0.689900</td>\n",
       "      <td>-1.300721</td>\n",
       "    </tr>\n",
       "  </tbody>\n",
       "</table>\n",
       "<p>4050000 rows × 42 columns</p>\n",
       "</div>"
      ],
      "text/plain": [
       "             Patient  Diagnosis    Time         Fz       FC1        C3  \\\n",
       "0          Patient_0          0   0.000  -0.003063  0.532317  0.001482   \n",
       "1          Patient_0          0   0.002   0.384354 -9.423356 -2.123312   \n",
       "2          Patient_0          0   0.004 -10.426778 -0.000855 -4.058763   \n",
       "3          Patient_0          0   0.006  -3.071366 -5.627454 -2.771687   \n",
       "4          Patient_0          0   0.008  -7.063727 -6.534853 -5.473887   \n",
       "...              ...        ...     ...        ...       ...       ...   \n",
       "4049995  Patient_269          0  29.990  -6.456685  0.376467 -6.761913   \n",
       "4049996  Patient_269          0  29.992  -0.931735 -1.220577 -3.802091   \n",
       "4049997  Patient_269          0  29.994  -1.048792 -1.782919  2.049632   \n",
       "4049998  Patient_269          0  29.996  -0.144217 -0.917059 -2.721668   \n",
       "4049999  Patient_269          0  29.998  -1.980416  1.736835 -2.720117   \n",
       "\n",
       "               T7       CP5       CP1        P3  ...       POz       PO4  \\\n",
       "0       -3.656705  0.003446  1.835564 -1.143459  ...  4.138678 -6.841405   \n",
       "1        3.451568  0.037242 -0.264607  3.733971  ...  1.034917  1.692262   \n",
       "2       -1.748821 -1.910042  1.578725 -2.354752  ... -0.694865  6.356311   \n",
       "3        0.005552  0.137462 -2.914209  2.338753  ...  2.106869  4.835685   \n",
       "4        1.252795  0.461665 -2.900879  5.545088  ...  2.345254  2.294672   \n",
       "...           ...       ...       ...       ...  ...       ...       ...   \n",
       "4049995  3.266033  2.686669 -0.851482  1.591529  ...  1.836043 -7.254310   \n",
       "4049996  2.555132 -1.004465 -3.638169 -0.663728  ... -1.472068 -3.454092   \n",
       "4049997  1.945938 -0.263482 -2.100360  2.032842  ...  1.692149 -3.302905   \n",
       "4049998  0.350005  5.262793  0.075380 -1.754320  ...  1.477638 -2.990365   \n",
       "4049999 -1.573157  2.509254  0.109298  0.747971  ... -0.156661 -0.263711   \n",
       "\n",
       "              PO8        P6        P2       CPz       CP4       TP8  \\\n",
       "0        0.004125  2.559477 -0.520981 -3.778777 -4.604167  0.002650   \n",
       "1       -2.393040  5.534984  0.422182 -2.865445 -3.591982  0.002650   \n",
       "2       -2.532005  1.142355  0.443890 -5.152515  4.297418 -2.462974   \n",
       "3       -1.696615  0.545445  0.835161 -4.528877 -6.043903  0.002650   \n",
       "4       -1.734597  1.076149 -1.882763 -2.659847 -2.922985 -8.698761   \n",
       "...           ...       ...       ...       ...       ...       ...   \n",
       "4049995  0.183805 -1.654815 -1.223988 -2.026892 -2.636632  0.002650   \n",
       "4049996 -0.188233 -4.008728  0.565905 -1.954039  5.044697 -1.525932   \n",
       "4049997 -7.077047  4.051019 -0.316741 -7.125548 -0.012108 -3.688537   \n",
       "4049998 -4.924588 -4.172351 -1.260971 -1.715001 -3.955666  4.047595   \n",
       "4049999 -6.130511 -2.905189 -2.588565 -2.142810 -3.596918 -5.567571   \n",
       "\n",
       "                C6        C2  \n",
       "0       -11.473443  5.263293  \n",
       "1         3.438419 -7.450541  \n",
       "2        -9.122838 -7.383072  \n",
       "3        -8.101640 -0.004458  \n",
       "4        -9.101163 -3.242604  \n",
       "...            ...       ...  \n",
       "4049995   3.049614 -6.960283  \n",
       "4049996   0.006506 -2.620820  \n",
       "4049997  -5.642081 -5.176935  \n",
       "4049998  -7.346419 -4.659592  \n",
       "4049999  -0.689900 -1.300721  \n",
       "\n",
       "[4050000 rows x 42 columns]"
      ]
     },
     "execution_count": 11,
     "metadata": {},
     "output_type": "execute_result"
    }
   ],
   "source": [
    "#Reemplazar las columnas de tiempo y pacientes por el nuevo vector\n",
    "New_syn_table = Syn_new.copy(deep=True)\n",
    "New_syn_table['Patient'] = patient1\n",
    "New_syn_table['Time'] = Time_df\n",
    "New_syn_table"
   ]
  },
  {
   "cell_type": "code",
   "execution_count": null,
   "id": "7be1964b-2127-42dc-aec4-be8b193b98af",
   "metadata": {},
   "outputs": [],
   "source": [
    "#Con este código se cuenta la cantidad total de pacientes de control y de párkinson\n",
    "test = New_syn_table.groupby(['Diagnosis','Patient']).mean()\n",
    "diag_pat = pd.DataFrame(list(test.index),columns=['Diagnosis','Patient'])\n",
    "#print(diag_pat)\n",
    "cont_CT = 0\n",
    "for i in range(len(diag_pat)):\n",
    "    if diag_pat['Diagnosis'][i] == 0:\n",
    "        cont_CT = cont_CT+1\n",
    "\n",
    "cont_PD = diag_pat['Patient'].nunique() - cont_CT\n",
    "print('Pacientes de control:' ,cont_CT)     \n",
    "print('Pacientes de párkinson:' ,cont_PD)"
   ]
  },
  {
   "cell_type": "markdown",
   "id": "d0d846ad-efd9-4618-9f41-bc16611be127",
   "metadata": {
    "tags": []
   },
   "source": [
    "## Comprobación gráfica"
   ]
  },
  {
   "cell_type": "code",
   "execution_count": 27,
   "id": "599511db-f152-4f96-9166-37e65525207a",
   "metadata": {},
   "outputs": [],
   "source": [
    "Syn_table = syn_NF.drop(columns='Unnamed: 0')\n",
    "Real_table = all_CT_PD_30s"
   ]
  },
  {
   "cell_type": "code",
   "execution_count": null,
   "id": "9abccc10-f80b-42a4-be81-a0369a133e36",
   "metadata": {
    "tags": []
   },
   "outputs": [],
   "source": [
    "#Arreglamos tiempo en tabla real\n",
    "rng = np.arange(0.000, 30, 0.002)\n",
    "rng = pd.DataFrame(rng,columns=['Time'])\n",
    "#print(rng)\n",
    "#print(len(rng))\n",
    "Time_df = rng\n",
    "for i in range(0,111):\n",
    "    Time_df = pd.concat([Time_df,rng],axis=0).reset_index(drop=True)\n",
    "Time_df"
   ]
  },
  {
   "cell_type": "code",
   "execution_count": null,
   "id": "35f3d99e-f10e-4b7a-a9af-ea5c05c19495",
   "metadata": {
    "tags": []
   },
   "outputs": [],
   "source": [
    "Real_table['Time'] = Time_df\n",
    "Real_table"
   ]
  },
  {
   "cell_type": "code",
   "execution_count": null,
   "id": "dbdeb053-feab-49a7-9908-38efe5b346f8",
   "metadata": {
    "tags": []
   },
   "outputs": [],
   "source": [
    "# Para guardar las señales sintéticas concatenadas antes de filtrar\n",
    "Syn_table.to_csv(\"%s:\\\\TFG\\\\Data and Code (1)\\\\Dataset\\\\IowaDataset\\\\270_CT_PD_30s_39ch_syn_NF.csv\"%(disco))"
   ]
  },
  {
   "cell_type": "code",
   "execution_count": null,
   "id": "0ff78ec0-80f8-4f0d-9729-9974fdf35407",
   "metadata": {
    "tags": []
   },
   "outputs": [],
   "source": [
    "#Extrae la lista de nombres de los pacientes reales\n",
    "Real_pat = Real_table['Patient'].drop_duplicates().reset_index(drop=True)\n",
    "Real_pat = list(Real_pat)\n",
    "Real_pat"
   ]
  },
  {
   "cell_type": "code",
   "execution_count": null,
   "id": "8c49a577-ddb6-426c-ac84-cd4926eda3cd",
   "metadata": {
    "tags": []
   },
   "outputs": [],
   "source": [
    "#Extrae la lista de nombres de los pacientes sintéticos\n",
    "Syn_pat = Syn_table['Patient'].drop_duplicates().reset_index(drop=True)\n",
    "Syn_pat = list(Syn_pat)\n",
    "Syn_pat"
   ]
  },
  {
   "cell_type": "markdown",
   "id": "03e613dc-2fed-42ae-bfba-71f7d17f2a6b",
   "metadata": {
    "tags": []
   },
   "source": [
    "### Gráficas"
   ]
  },
  {
   "cell_type": "code",
   "execution_count": 33,
   "id": "d3b8a6d1-5148-4bd8-aadb-218886ea191a",
   "metadata": {},
   "outputs": [],
   "source": [
    "#Se escogen los pacientes aleatoreamente\n",
    "CT_Pat_Syn = Syn_table[(Syn_table[\"Patient\"] == \"Patient_0\")].reset_index(drop=True)\n",
    "CT_Pat_Real = Real_table[(Real_table[\"Patient\"] == \"CT3_1\")].reset_index(drop=True)\n",
    "PD_Pat_Syn = Syn_table[(Syn_table[\"Patient\"] == \"Patient_100\")].reset_index(drop=True)\n",
    "PD_Pat_Real = Real_table[(Real_table[\"Patient\"] == \"PD3_1\")].reset_index(drop=True)"
   ]
  },
  {
   "cell_type": "code",
   "execution_count": 34,
   "id": "ab372bad-9f64-4c5a-913b-0d265d634cb4",
   "metadata": {},
   "outputs": [],
   "source": [
    "#Función que organiza los datos tubulares para que funcionen adecuadamente en la el análisis\n",
    "def get_record_df(df): \n",
    "    df_record = df\n",
    "    df_record = df_record.drop(columns = ['Patient','Diagnosis','Time'])\n",
    "    df_record = df_record.T\n",
    "    return df_record.to_numpy()"
   ]
  },
  {
   "cell_type": "code",
   "execution_count": 35,
   "id": "2811352d-3274-4c4c-a116-1ca1ed35a91f",
   "metadata": {},
   "outputs": [],
   "source": [
    "Channels = ['Fz', 'FC1', 'C3', 'T7','CP5', 'CP1', 'P3', 'P7', 'O1', 'Oz', 'O2', 'P4', 'P8', 'TP10',\n",
    "               'CP6', 'CP2', 'Cz', 'C4', 'FC2', 'F1', 'FC3', 'C1', 'C5','TP7', 'CP3', 'P1', 'P5', 'PO7',\n",
    "               'PO3', 'POz', 'PO4', 'PO8', 'P6', 'P2', 'CPz', 'CP4', 'TP8', 'C6', 'C2']"
   ]
  },
  {
   "cell_type": "code",
   "execution_count": 66,
   "id": "e7f6d180-6904-4d34-a32b-33ab6e051e50",
   "metadata": {},
   "outputs": [],
   "source": [
    "#Gráficos reales vs. sintéticos\n",
    "for i in range(0,39):\n",
    "    ## Plot of CT patients \n",
    "    fig, [ax1,ax2] = plt.subplots(2,1,figsize=(20,10))\n",
    "    ax1.plot(CT_Pat_Real[\"Time\"], CT_Pat_Real[Channels[i]], label='Control %s Real'%(Channels[i]))\n",
    "    ax1.plot(CT_Pat_Syn[\"Time\"], CT_Pat_Syn[Channels[i]], label='Control %s Sintética'%(Channels[i]))\n",
    "    ax1.legend(loc='upper right')\n",
    "    ax1.set_ylabel(\"Amplitud\")\n",
    "    ax1.set_xlabel(\"Tiempo(s)\")\n",
    "    ax1.set_xlim(0,30)\n",
    "\n",
    "    ## Plot of PD patients \n",
    "    ax2.plot(PD_Pat_Real[\"Time\"], PD_Pat_Real[Channels[i]], label='Párkinson %s Real'%(Channels[i]))\n",
    "    ax2.plot(PD_Pat_Syn[\"Time\"], PD_Pat_Syn[Channels[i]], label='Párkinson %s Sintética'%(Channels[i]))\n",
    "    ax2.legend(loc='upper right')\n",
    "    ax2.set_ylabel(\"Amplitud\")\n",
    "    ax2.set_xlabel(\"Tiempo(s)\")\n",
    "    ax2.set_xlim(0,30)\n",
    "\n",
    "    plt.savefig(\"%s:\\\\TFG\\\\Data and Code (1)\\\\Dataset\\\\IowaDataset\\\\Plots_real_vs_syn_NF\\\\CH_%s_real_vs_syn.jpg\"%(disco,Channels[i]))"
   ]
  },
  {
   "cell_type": "code",
   "execution_count": 41,
   "id": "c0f4d571-8ae2-4770-9511-cb998842509f",
   "metadata": {},
   "outputs": [],
   "source": [
    "CT_signal_array_Real = get_record_df(CT_Pat_Real)\n",
    "CT_signal_array_Syn = get_record_df(CT_Pat_Syn)\n",
    "PD_signal_array_Real = get_record_df(PD_Pat_Real)\n",
    "PD_signal_array_Syn = get_record_df(PD_Pat_Syn)"
   ]
  },
  {
   "cell_type": "code",
   "execution_count": 67,
   "id": "9d3917f4-253d-491c-bdb4-87f34b077057",
   "metadata": {},
   "outputs": [],
   "source": [
    "#Graficar la transformada de fourier de las señales reales y sintéticas\n",
    "for i in range(0,39):\n",
    "    # FFT _Real vs FFT _Syn\n",
    "    fig, [[ax1,ax2],[ax3,ax4]] = plt.subplots(2,2,figsize=(10,10))\n",
    "    SAMPLE_RATE = 500 #Hz\n",
    "    DURATION = len(CT_Pat_Real)\n",
    "    N = DURATION\n",
    "    xf = fftfreq(N, 1 / SAMPLE_RATE)\n",
    "    yf_CT_real = fft(CT_signal_array_Real[i])\n",
    "    yf_CT_syn = fft(CT_signal_array_Syn[i])\n",
    "    yf_PD_real = fft(PD_signal_array_Real[i])\n",
    "    yf_PD_syn = fft(PD_signal_array_Syn[i])\n",
    "\n",
    "    ax1.plot(xf, np.abs(yf_CT_real),label='Control %s Real'%(Channels[i]))\n",
    "    ax1.set_ylim(0,15000)\n",
    "    ax2.plot(xf, np.abs(yf_CT_syn),label='Control %s Sintética'%(Channels[i]))\n",
    "    ax2.set_ylim(0,15000)\n",
    "    ax3.plot(xf, np.abs(yf_PD_real),label='Párkinson %s Real'%(Channels[i]))\n",
    "    ax3.set_ylim(0,15000)\n",
    "    ax4.plot(xf, np.abs(yf_PD_syn),label='Párkinson %s Sintética'%(Channels[i]))\n",
    "    ax4.set_ylim(0,15000)\n",
    "\n",
    "    ax1.legend(loc='upper right')\n",
    "    ax2.legend(loc='upper right')\n",
    "    ax3.legend(loc='upper right')\n",
    "    ax4.legend(loc='upper right')\n",
    "\n",
    "    ax1.set_ylabel(\"Amplitud\")\n",
    "    ax2.set_ylabel(\"Amplitud\")\n",
    "    ax3.set_ylabel(\"Amplitud\")\n",
    "    ax4.set_ylabel(\"Amplitud\")\n",
    "\n",
    "    ax1.set_xlabel(\"Frecuencia (Hz)\")\n",
    "    ax2.set_xlabel(\"Frecuencia (Hz)\")\n",
    "    ax3.set_xlabel(\"Frecuencia (Hz)\")\n",
    "    ax4.set_xlabel(\"Frecuencia (Hz)\")\n",
    "\n",
    "    plt.savefig(\"%s:\\\\TFG\\\\Data and Code (1)\\\\Dataset\\\\IowaDataset\\\\Plots_real_vs_syn_NF\\\\FFT_%s_real_vs_syn.jpg\"%(disco,Channels[i]))\n"
   ]
  },
  {
   "cell_type": "markdown",
   "id": "5fbdcbd7-5c68-4c3b-9d47-28ac0085eb7c",
   "metadata": {},
   "source": [
    "### Filtrado\n"
   ]
  },
  {
   "cell_type": "code",
   "execution_count": 53,
   "id": "c83cb592-22d3-4f80-a613-312a1bd515b1",
   "metadata": {},
   "outputs": [],
   "source": [
    "#Funciones de filtrado\n",
    "#Cambiamos el formato de los nombres de los canales a lista\n",
    "Channels = ['Fz', 'FC1', 'C3', 'T7','CP5', 'CP1', 'P3', 'P7', 'O1', 'Oz', 'O2', 'P4', 'P8', 'TP10',\n",
    "               'CP6', 'CP2', 'Cz', 'C4', 'FC2', 'F1', 'FC3', 'C1', 'C5','TP7', 'CP3', 'P1', 'P5', 'PO7',\n",
    "               'PO3', 'POz', 'PO4', 'PO8', 'P6', 'P2', 'CPz', 'CP4', 'TP8', 'C6', 'C2']\n",
    "#Función que organiza los datos tubulares para que funcionen adecuadamente en la el análisis\n",
    "def get_record_df(df): \n",
    "    df_record = df\n",
    "    df_record = df_record.drop(columns = ['Patient','Diagnosis','Time'])\n",
    "    df_record = df_record.T\n",
    "    return df_record.to_numpy()\n",
    "\n",
    "from scipy.signal import medfilt # import the median filter function\n",
    "def median(signal,ch):# input: numpy array 1D (one column)  // ch is the number of the channel [0,63]\n",
    "    array=np.array(signal)   \n",
    "    #applying the median filter\n",
    "    med_filtered=scipy.signal.medfilt(array[ch], kernel_size=3) # applying the median filter order3(kernel_size=3)\n",
    "    return  med_filtered # return the med-filtered signal: numpy array 1D\n",
    "\n",
    "#band pass filter between 0.5 and 40 hz\n",
    "from scipy.signal import butter, lfilter\n",
    "def butter_bandpass(lowcut, highcut, fs, order=5):\n",
    "    nyq = 0.5 * fs\n",
    "    low = lowcut / nyq\n",
    "    high = highcut / nyq\n",
    "    b, a = butter(order, [low, high], btype='band')\n",
    "    return b, a\n",
    "def butter_bandpass_filter(data, lowcut, highcut, fs, order=5):\n",
    "    b, a = butter_bandpass(lowcut, highcut, fs, order=order)\n",
    "    y = lfilter(b, a, data)\n",
    "    return y\n",
    "\n",
    "#notch filter apllied at 50hz\n",
    "def Implement_Notch_Filter(freq, filt_freq, Q, data):\n",
    "    from scipy.signal import iirfilter\n",
    "    from scipy import signal\n",
    "    fs = freq # Sample frequency (Hz)\n",
    "    f0 = filt_freq  # Frequency to be removed from signal (Hz)\n",
    "    Q = Q  # Quality factor\n",
    "    # Design notch filter\n",
    "    b, a = signal.iirnotch(f0, Q, fs)\n",
    "    filtered_data = lfilter(b, a, data)\n",
    "    return filtered_data"
   ]
  },
  {
   "cell_type": "code",
   "execution_count": 54,
   "id": "2b3107e2-212c-4dba-86a3-af126590b074",
   "metadata": {},
   "outputs": [],
   "source": [
    "def Signal_filtering(df,channel,frec):\n",
    "    signal_array = get_record_df(df)\n",
    "    #print(signal_array.shape)\n",
    "    #print('signal array:', signal_array)\n",
    "\n",
    "    med_filtered=median(signal_array,channel) # apply 3rd order median filter and store the filtred signal in med_filtred\n",
    "    #print(len(med_filtered))\n",
    "    #print('med_filt signal:',med_filtered)\n",
    "\n",
    "    fs = frec\n",
    "    lowcut = 0.5\n",
    "    highcut = 50\n",
    "    band_pass=butter_bandpass_filter(med_filtered, lowcut, highcut, fs, order=5)\n",
    "    #print(len(band_pass))\n",
    "    #print('band_pass signal:',band_pass)\n",
    "\n",
    "    notch = Implement_Notch_Filter(fs, 60, 50, band_pass)\n",
    "    #print(len(notch))\n",
    "    #print('notch signal:',notch)\n",
    "    return notch"
   ]
  },
  {
   "cell_type": "markdown",
   "id": "daa73404-4601-4387-b2d7-a525911a8744",
   "metadata": {
    "tags": []
   },
   "source": [
    "### Graficas con filtro"
   ]
  },
  {
   "cell_type": "code",
   "execution_count": 188,
   "id": "6faf00cc-4979-4fd2-9327-00827028e310",
   "metadata": {},
   "outputs": [
    {
     "data": {
      "text/plain": [
       "array([ 7.89040881e-06,  6.68980734e-03,  6.54612344e-02, ...,\n",
       "       -1.26481132e+00, -1.26611822e+00, -1.28257704e+00])"
      ]
     },
     "execution_count": 188,
     "metadata": {},
     "output_type": "execute_result"
    }
   ],
   "source": [
    "Signal_filtering(CT_Pat_Syn,2,500)"
   ]
  },
  {
   "cell_type": "code",
   "execution_count": null,
   "id": "95ca3153-c450-48f9-9028-f56226b573ac",
   "metadata": {
    "tags": []
   },
   "outputs": [],
   "source": [
    "#Señales filtradas de pacientes\n",
    "for i in range(len(Channels)):\n",
    "    if i == 0:\n",
    "        test_signal_CT = Signal_filtering(CT_Pat_Syn,i,500)\n",
    "        test_signal_PD = Signal_filtering(PD_Pat_Syn,i,500)\n",
    "        test_signal_df_CT = pd.DataFrame(test_signal_CT,columns = [Channels[i]])\n",
    "        test_signal_df_PD = pd.DataFrame(test_signal_PD,columns = [Channels[i]])\n",
    "    else:\n",
    "        test_signal1_CT = Signal_filtering(CT_Pat_Syn,i,500)\n",
    "        test_signal1_PD = Signal_filtering(PD_Pat_Syn,i,500)\n",
    "        test_signal1_df_CT = pd.DataFrame(test_signal1_CT,columns = [Channels[i]])\n",
    "        test_signal1_df_PD = pd.DataFrame(test_signal1_PD,columns = [Channels[i]])\n",
    "        test_signal_df_CT = pd.concat((test_signal_df_CT,test_signal1_df_CT), axis=1)\n",
    "        test_signal_df_PD = pd.concat((test_signal_df_PD,test_signal1_df_PD), axis=1)\n",
    "        \n",
    "test_signal_df_PD\n",
    "\n"
   ]
  },
  {
   "cell_type": "code",
   "execution_count": 73,
   "id": "2b87ed54-26c5-48b0-a90b-77e25dce62c4",
   "metadata": {},
   "outputs": [],
   "source": [
    "#Gráficas de señales reales vs. Sintéticas después de filtrar (Y filtrada y aumentada)\n",
    "for i in range(0,39):\n",
    "    ## Plot of CT patients \n",
    "    fig, [ax1,ax2] = plt.subplots(2,1,figsize=(20,10))\n",
    "    ax1.plot(CT_Pat_Real[\"Time\"], CT_Pat_Real[Channels[i]], label='Control %s Real'%(Channels[i]))\n",
    "    ax1.plot(CT_Pat_Syn[\"Time\"], test_signal_df_CT[Channels[i]]*2, label='Control %s Sintética'%(Channels[i]))  # El *2 es para duplicar la señal (Quitarlo\n",
    "                                                                                                                # en caso de que se quiera solo la señal filtrada)\n",
    "    ax1.legend(loc='upper right')\n",
    "    ax1.set_ylabel(\"Amplitud\")\n",
    "    ax1.set_xlabel(\"Tiempo(s)\")\n",
    "    ax1.set_xlim(0,30)\n",
    "\n",
    "    ## Plot of PD patients \n",
    "    ax2.plot(PD_Pat_Real[\"Time\"], PD_Pat_Real[Channels[i]], label='Párkinson %s Real'%(Channels[i]))\n",
    "    ax2.plot(PD_Pat_Syn[\"Time\"], test_signal_df_PD[Channels[i]]*2, label='Párkinson %s Sintética'%(Channels[i])) # El *2 es para duplicar la señal (Quitarlo\n",
    "                                                                                                                # en caso de que se quiera solo la señal filtrada)\n",
    "    ax2.legend(loc='upper right')\n",
    "    ax2.set_ylabel(\"Amplitud\")\n",
    "    ax2.set_xlabel(\"Tiempo(s)\")\n",
    "    ax2.set_xlim(0,30)\n",
    "\n",
    "    plt.savefig(\"%s:\\\\TFG\\\\Data and Code (1)\\\\Dataset\\\\IowaDataset\\\\Plots_real_vs_syn_F\\\\CH_%s_real_vs_syn_A.jpg\"%(disco,Channels[i]))\n"
   ]
  },
  {
   "cell_type": "code",
   "execution_count": 60,
   "id": "50a83b89-c7e2-40c6-b46a-3e049b510451",
   "metadata": {},
   "outputs": [],
   "source": [
    "def get_record_df2(df): \n",
    "    df_record = df\n",
    "    df_record = df_record.T\n",
    "    return df_record.to_numpy()"
   ]
  },
  {
   "cell_type": "code",
   "execution_count": 61,
   "id": "e507fc69-286e-4f06-a8dc-b7b134ae8493",
   "metadata": {},
   "outputs": [],
   "source": [
    "CT_signal_array_Real = get_record_df(CT_Pat_Real)\n",
    "CT_signal_array_Syn_F = get_record_df2(test_signal_df_CT)\n",
    "PD_signal_array_Real = get_record_df(PD_Pat_Real)\n",
    "PD_signal_array_Syn_F = get_record_df2(test_signal_df_PD)"
   ]
  },
  {
   "cell_type": "code",
   "execution_count": 71,
   "id": "e22e90c6-8218-4a38-a253-c95bb1139933",
   "metadata": {},
   "outputs": [],
   "source": [
    "#Graficar la transformada de fourier de las señales reales y sintéticas filtradas (Y filtradas y aumentadas)\n",
    "for i in range(0,39):\n",
    "    # FFT _Real vs FFT _Syn\n",
    "    fig, [[ax1,ax2],[ax3,ax4]] = plt.subplots(2,2,figsize=(10,10))\n",
    "    SAMPLE_RATE = 500 #Hz\n",
    "    DURATION = len(CT_Pat_Real)\n",
    "    N = DURATION\n",
    "    xf = fftfreq(N, 1 / SAMPLE_RATE)\n",
    "    yf_CT_real = fft(CT_signal_array_Real[i])\n",
    "    yf_CT_syn = fft(CT_signal_array_Syn_F[i])*2  # El *2 es para duplicar la señal (Quitarlo en caso de que se quiera solo la señal filtrada)\n",
    "    yf_PD_real = fft(PD_signal_array_Real[i])\n",
    "    yf_PD_syn = fft(PD_signal_array_Syn_F[i])*2  # El *2 es para duplicar la señal (Quitarlo en caso de que se quiera solo la señal filtrada)\n",
    "\n",
    "    ax1.plot(xf, np.abs(yf_CT_real),label='Control %s Real'%(Channels[i]))\n",
    "    ax1.set_ylim(0,15000)\n",
    "    ax2.plot(xf, np.abs(yf_CT_syn),label='Control %s Sintética'%(Channels[i]))\n",
    "    ax2.set_ylim(0,15000)\n",
    "    ax3.plot(xf, np.abs(yf_PD_real),label='Párkinson %s Real'%(Channels[i]))\n",
    "    ax3.set_ylim(0,15000)\n",
    "    ax4.plot(xf, np.abs(yf_PD_syn),label='Párkinson %s Sintética'%(Channels[i]))\n",
    "    ax4.set_ylim(0,15000)\n",
    "\n",
    "    ax1.legend(loc='upper right')\n",
    "    ax2.legend(loc='upper right')\n",
    "    ax3.legend(loc='upper right')\n",
    "    ax4.legend(loc='upper right')\n",
    "\n",
    "    ax1.set_ylabel(\"Amplitud\")\n",
    "    ax2.set_ylabel(\"Amplitud\")\n",
    "    ax3.set_ylabel(\"Amplitud\")\n",
    "    ax4.set_ylabel(\"Amplitud\")\n",
    "\n",
    "    ax1.set_xlabel(\"Frecuencia (Hz)\")\n",
    "    ax2.set_xlabel(\"Frecuencia (Hz)\")\n",
    "    ax3.set_xlabel(\"Frecuencia (Hz)\")\n",
    "    ax4.set_xlabel(\"Frecuencia (Hz)\")\n",
    "\n",
    "    plt.savefig(\"%s:\\\\TFG\\\\Data and Code (1)\\\\Dataset\\\\IowaDataset\\\\Plots_real_vs_syn_F\\\\FFT_%s_real_vs_syn_A.jpg\"%(disco,Channels[i]))\n"
   ]
  },
  {
   "cell_type": "markdown",
   "id": "c4d32ca8-f65d-43b5-97db-06bfa4d53208",
   "metadata": {
    "tags": []
   },
   "source": [
    "## Código para filtrar las señales sintéticas y concatenar"
   ]
  },
  {
   "cell_type": "code",
   "execution_count": null,
   "id": "6ef4cb31-2cb3-47e2-9274-9be3da285480",
   "metadata": {},
   "outputs": [],
   "source": [
    "##Código para filtrar las señales sintéticas y concatenar\n",
    "\n",
    "Channels = ['Fz', 'FC1', 'C3', 'T7','CP5', 'CP1', 'P3', 'P7', 'O1', 'Oz', 'O2', 'P4', 'P8', 'TP10',\n",
    "            'CP6', 'CP2', 'Cz', 'C4', 'FC2', 'F1', 'FC3', 'C1', 'C5','TP7', 'CP3', 'P1', 'P5', 'PO7',\n",
    "            'PO3', 'POz', 'PO4', 'PO8', 'P6', 'P2', 'CPz', 'CP4', 'TP8', 'C6', 'C2']\n",
    "\n",
    "context = Syn_table[['Patient','Diagnosis','Time']]\n",
    "\n",
    "for n in range(len(Syn_pat)):\n",
    "    CT_or_PD_Pat_Syn = Syn_table[(Syn_table[\"Patient\"] == Syn_pat[n])].reset_index(drop=True)\n",
    "    for i in range(len(Channels)):\n",
    "        if i == 0:\n",
    "            test_signal = Signal_filtering(CT_or_PD_Pat_Syn,i,500)\n",
    "            test_signal_df = pd.DataFrame(test_signal,columns = [Channels[i]])\n",
    "        else:\n",
    "            test_signal1 = Signal_filtering(CT_or_PD_Pat_Syn,i,500)\n",
    "            test_signal1_df = pd.DataFrame(test_signal1,columns = [Channels[i]])\n",
    "            test_signal_df = pd.concat((test_signal_df,test_signal1_df), axis=1)\n",
    "    if n == 0:\n",
    "        Syn_filt = test_signal_df\n",
    "    else:\n",
    "        Syn_filt1 = test_signal_df\n",
    "        Syn_filt = pd.concat([Syn_filt,Syn_filt1],axis=0).reset_index(drop=True)                                                                          \n",
    "                                                                                \n",
    "                                                                                   \n",
    "                                                                                   \n",
    "Syn_filtered = pd.concat((context,Syn_filt),axis=1)\n",
    "Syn_filtered                                                                             "
   ]
  },
  {
   "cell_type": "code",
   "execution_count": 24,
   "id": "7de131f9-9914-4867-a4ca-4d9db56d8be1",
   "metadata": {},
   "outputs": [],
   "source": [
    "Syn_filtered.to_csv(\"%s:\\\\TFG\\\\Data and Code (1)\\\\Dataset\\\\IowaDataset\\\\270_CT_PD_30s_39ch_syn_NA.csv\"%(disco))"
   ]
  },
  {
   "cell_type": "code",
   "execution_count": null,
   "id": "9fa96643-247b-413d-831c-3194fc740f72",
   "metadata": {},
   "outputs": [],
   "source": [
    "##Código para filtrar las señales sintéticas, AUMENTAR y concatenar\n",
    "\n",
    "Channels = ['Fz', 'FC1', 'C3', 'T7','CP5', 'CP1', 'P3', 'P7', 'O1', 'Oz', 'O2', 'P4', 'P8', 'TP10',\n",
    "            'CP6', 'CP2', 'Cz', 'C4', 'FC2', 'F1', 'FC3', 'C1', 'C5','TP7', 'CP3', 'P1', 'P5', 'PO7',\n",
    "            'PO3', 'POz', 'PO4', 'PO8', 'P6', 'P2', 'CPz', 'CP4', 'TP8', 'C6', 'C2']\n",
    "\n",
    "context = Syn_table[['Patient','Diagnosis','Time']]\n",
    "\n",
    "for n in range(len(Syn_pat)):\n",
    "    CT_or_PD_Pat_Syn = Syn_table[(Syn_table[\"Patient\"] == Syn_pat[n])].reset_index(drop=True)\n",
    "    for i in range(len(Channels)):\n",
    "        if i == 0:\n",
    "            test_signal = Signal_filtering(CT_or_PD_Pat_Syn,i,500)\n",
    "            test_signal_df = pd.DataFrame(test_signal*2,columns = [Channels[i]])\n",
    "        else:\n",
    "            test_signal1 = Signal_filtering(CT_or_PD_Pat_Syn,i,500)\n",
    "            test_signal1_df = pd.DataFrame(test_signal1*2,columns = [Channels[i]])\n",
    "            test_signal_df = pd.concat((test_signal_df,test_signal1_df), axis=1)\n",
    "    if n == 0:\n",
    "        Syn_filt = test_signal_df\n",
    "    else:\n",
    "        Syn_filt1 = test_signal_df\n",
    "        Syn_filt = pd.concat([Syn_filt,Syn_filt1],axis=0).reset_index(drop=True)                                                                          \n",
    "                                                                                \n",
    "                                                                                   \n",
    "                                                                                   \n",
    "Syn_filtered = pd.concat((context,Syn_filt),axis=1)\n",
    "Syn_filtered                                                                             "
   ]
  },
  {
   "cell_type": "code",
   "execution_count": 26,
   "id": "fb0b73d8-2ee3-41ae-b9a2-8f05ed89afa0",
   "metadata": {},
   "outputs": [],
   "source": [
    "Syn_filtered.to_csv(\"%s:\\\\TFG\\\\Data and Code (1)\\\\Dataset\\\\IowaDataset\\\\270_CT_PD_30s_39ch_syn_A.csv\"%(disco))"
   ]
  }
 ],
 "metadata": {
  "kernelspec": {
   "display_name": "Python 3 (ipykernel)",
   "language": "python",
   "name": "python3"
  },
  "language_info": {
   "codemirror_mode": {
    "name": "ipython",
    "version": 3
   },
   "file_extension": ".py",
   "mimetype": "text/x-python",
   "name": "python",
   "nbconvert_exporter": "python",
   "pygments_lexer": "ipython3",
   "version": "3.9.12"
  }
 },
 "nbformat": 4,
 "nbformat_minor": 5
}
